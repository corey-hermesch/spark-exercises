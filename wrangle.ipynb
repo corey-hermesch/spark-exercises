{
 "cells": [
  {
   "cell_type": "code",
   "execution_count": 1,
   "id": "40ce7821-cd26-40f0-a494-d92351a3c39b",
   "metadata": {},
   "outputs": [
    {
     "name": "stderr",
     "output_type": "stream",
     "text": [
      "Setting default log level to \"WARN\".\n",
      "To adjust logging level use sc.setLogLevel(newLevel). For SparkR, use setLogLevel(newLevel).\n",
      "23/07/05 13:30:36 WARN NativeCodeLoader: Unable to load native-hadoop library for your platform... using builtin-java classes where applicable\n",
      "23/07/05 13:30:37 WARN Utils: Service 'SparkUI' could not bind on port 4040. Attempting port 4041.\n"
     ]
    },
    {
     "data": {
      "text/html": [
       "\n",
       "            <div>\n",
       "                <p><b>SparkSession - in-memory</b></p>\n",
       "                \n",
       "        <div>\n",
       "            <p><b>SparkContext</b></p>\n",
       "\n",
       "            <p><a href=\"http://coreys-mbp.localdomain:4041\">Spark UI</a></p>\n",
       "\n",
       "            <dl>\n",
       "              <dt>Version</dt>\n",
       "                <dd><code>v3.4.1</code></dd>\n",
       "              <dt>Master</dt>\n",
       "                <dd><code>local[*]</code></dd>\n",
       "              <dt>AppName</dt>\n",
       "                <dd><code>pyspark-shell</code></dd>\n",
       "            </dl>\n",
       "        </div>\n",
       "        \n",
       "            </div>\n",
       "        "
      ],
      "text/plain": [
       "<pyspark.sql.session.SparkSession at 0x12ee0a2b0>"
      ]
     },
     "execution_count": 1,
     "metadata": {},
     "output_type": "execute_result"
    }
   ],
   "source": [
    "import numpy as np\n",
    "import pandas as pd\n",
    "\n",
    "import warnings\n",
    "warnings.filterwarnings('ignore')\n",
    "\n",
    "import pyspark\n",
    "from pyspark.sql.functions import *\n",
    "\n",
    "from env import host, user, password, get_db_url\n",
    "from sqlalchemy import text, create_engine\n",
    "\n",
    "spark = pyspark.sql.SparkSession.builder.getOrCreate()\n",
    "spark"
   ]
  },
  {
   "cell_type": "code",
   "execution_count": 2,
   "id": "7e174d07-7f3a-4e27-baa2-ed3024100288",
   "metadata": {},
   "outputs": [],
   "source": [
    "def read_query(db, query):\n",
    "    \"\"\" Function to read in a query from a db in Codeup's MySQL server \"\"\"\n",
    "    # get url\n",
    "    url = env.get_db_url(db)\n",
    "    # create this \"engine\" and use it to make a \"connection\"\n",
    "    engine = create_engine(url)\n",
    "    connection = engine.connect()\n",
    "    # use text function to turn a string query into the format needed\n",
    "    query = text(query)\n",
    "    # Now we can use the connection and read the query into a df\n",
    "    df = pd.read_sql(query, connection)\n",
    "    return df"
   ]
  },
  {
   "cell_type": "markdown",
   "id": "c6f09abd-dd44-4e45-add1-4ace30466882",
   "metadata": {},
   "source": [
    "# Exercises\n",
    "1. Read the case, department, and source data into their own spark dataframes\n",
    "- Write code to store source data in both csv and json format; store as sources_csv adn sources_json\n",
    "- Inspect folder structure. What do you notice?\n",
    "    - Interesting, neither one split it into multiple partitions. it did make the folder and put in a single \"partition\" file, but not multiple files. Maybe because sources was so small?\n",
    "- Inspect dataframes. Are data types appropriate? Write code to cast values to appropriate types"
   ]
  },
  {
   "cell_type": "code",
   "execution_count": 3,
   "id": "853a4661-17e2-4d1d-bf23-7321be8f099f",
   "metadata": {},
   "outputs": [
    {
     "name": "stderr",
     "output_type": "stream",
     "text": [
      "                                                                                \r"
     ]
    },
    {
     "data": {
      "text/plain": [
       "DataFrame[case_id: int, case_opened_date: string, case_closed_date: string, SLA_due_date: string, case_late: string, num_days_late: double, case_closed: string, dept_division: string, service_request_type: string, SLA_days: double, case_status: string, source_id: string, request_address: string, council_district: int]"
      ]
     },
     "execution_count": 3,
     "metadata": {},
     "output_type": "execute_result"
    }
   ],
   "source": [
    "# reading in the 3 separate .csv files into spark df's\n",
    "case_df = spark.read.csv('case.csv', sep=',', header=True, inferSchema=True)\n",
    "case_df"
   ]
  },
  {
   "cell_type": "code",
   "execution_count": 4,
   "id": "7565369c-c5a7-4cae-89e8-884b973ceb72",
   "metadata": {},
   "outputs": [
    {
     "data": {
      "text/plain": [
       "DataFrame[source_id: string, source_username: string]"
      ]
     },
     "execution_count": 4,
     "metadata": {},
     "output_type": "execute_result"
    }
   ],
   "source": [
    "source_df = spark.read.csv('source.csv', sep=',', header=True, inferSchema=True)\n",
    "source_df"
   ]
  },
  {
   "cell_type": "code",
   "execution_count": 5,
   "id": "f25c45c2-e66f-48a2-ae5c-3bf0ad9edd11",
   "metadata": {},
   "outputs": [
    {
     "data": {
      "text/plain": [
       "DataFrame[dept_division: string, dept_name: string, standardized_dept_name: string, dept_subject_to_SLA: string]"
      ]
     },
     "execution_count": 5,
     "metadata": {},
     "output_type": "execute_result"
    }
   ],
   "source": [
    "dept_df = spark.read.csv('dept.csv', sep=',', header=True, inferSchema=True)\n",
    "dept_df"
   ]
  },
  {
   "cell_type": "code",
   "execution_count": 6,
   "id": "76c5b951-b118-4804-916a-89a42b6750f5",
   "metadata": {},
   "outputs": [],
   "source": [
    "# writing one df to csv and json for now for the exercise instructions\n",
    "source_df.write.json('sources_json', mode=\"overwrite\")"
   ]
  },
  {
   "cell_type": "code",
   "execution_count": 7,
   "id": "d141e0bf-0ca5-4e0d-b39b-9a05bab2d278",
   "metadata": {},
   "outputs": [],
   "source": [
    "source_df.write.csv('sources_csv', mode = \"overwrite\")"
   ]
  },
  {
   "cell_type": "code",
   "execution_count": 8,
   "id": "8a9b6cdd-d029-4d8d-8e66-e4bfcd70127a",
   "metadata": {},
   "outputs": [],
   "source": [
    "# Or...\n",
    "(\n",
    "    source_df.write.format(\"csv\")\n",
    "    .mode(\"overwrite\")\n",
    "    .option(\"header\", True)\n",
    "    .save(\"sources_csv\")\n",
    ")"
   ]
  },
  {
   "cell_type": "code",
   "execution_count": 9,
   "id": "3672df32-1929-4edd-9287-1f7b2cb57656",
   "metadata": {},
   "outputs": [
    {
     "name": "stdout",
     "output_type": "stream",
     "text": [
      "-RECORD 0------------------------------------\n",
      " case_id              | 1014127332           \n",
      " case_opened_date     | 1/1/18 0:42          \n",
      " case_closed_date     | 1/1/18 12:29         \n",
      " SLA_due_date         | 9/26/20 0:42         \n",
      " case_late            | NO                   \n",
      " num_days_late        | -998.5087616000001   \n",
      " case_closed          | YES                  \n",
      " dept_division        | Field Operations     \n",
      " service_request_type | Stray Animal         \n",
      " SLA_days             | 999.0                \n",
      " case_status          | Closed               \n",
      " source_id            | svcCRMLS             \n",
      " request_address      | 2315  EL PASO ST,... \n",
      " council_district     | 5                    \n",
      "-RECORD 1------------------------------------\n",
      " case_id              | 1014127333           \n",
      " case_opened_date     | 1/1/18 0:46          \n",
      " case_closed_date     | 1/3/18 8:11          \n",
      " SLA_due_date         | 1/5/18 8:30          \n",
      " case_late            | NO                   \n",
      " num_days_late        | -2.0126041669999997  \n",
      " case_closed          | YES                  \n",
      " dept_division        | Storm Water          \n",
      " service_request_type | Removal Of Obstru... \n",
      " SLA_days             | 4.322222222          \n",
      " case_status          | Closed               \n",
      " source_id            | svcCRMSS             \n",
      " request_address      | 2215  GOLIAD RD, ... \n",
      " council_district     | 3                    \n",
      "only showing top 2 rows\n",
      "\n"
     ]
    }
   ],
   "source": [
    "# inspect df's and cast to appropriate datatypes, starting with case_df\n",
    "case_df.show(2, vertical=True)"
   ]
  },
  {
   "cell_type": "code",
   "execution_count": 10,
   "id": "feb28d5c-5380-447e-97a0-efcca5ac819b",
   "metadata": {},
   "outputs": [
    {
     "name": "stdout",
     "output_type": "stream",
     "text": [
      "root\n",
      " |-- case_id: integer (nullable = true)\n",
      " |-- case_opened_date: string (nullable = true)\n",
      " |-- case_closed_date: string (nullable = true)\n",
      " |-- SLA_due_date: string (nullable = true)\n",
      " |-- case_late: string (nullable = true)\n",
      " |-- num_days_late: double (nullable = true)\n",
      " |-- case_closed: string (nullable = true)\n",
      " |-- dept_division: string (nullable = true)\n",
      " |-- service_request_type: string (nullable = true)\n",
      " |-- SLA_days: double (nullable = true)\n",
      " |-- case_status: string (nullable = true)\n",
      " |-- source_id: string (nullable = true)\n",
      " |-- request_address: string (nullable = true)\n",
      " |-- council_district: integer (nullable = true)\n",
      "\n"
     ]
    }
   ],
   "source": [
    "# start with case_df; I'll just follow what we did in the exercise/curriculum\n",
    "case_df.printSchema()"
   ]
  },
  {
   "cell_type": "code",
   "execution_count": 11,
   "id": "8b427219-72fe-4d38-b694-74b02ed44e65",
   "metadata": {},
   "outputs": [],
   "source": [
    "# rename a column (Note: I can run this more than once and it doesn't error out. Weird)\n",
    "case_df = case_df.withColumnRenamed('SLA_due_date', 'case_due_date')"
   ]
  },
  {
   "cell_type": "code",
   "execution_count": 12,
   "id": "04f0485b-9ab3-4ed5-aa9e-719d20d5ade3",
   "metadata": {},
   "outputs": [
    {
     "name": "stderr",
     "output_type": "stream",
     "text": [
      "[Stage 10:=======>                                                  (1 + 7) / 8]\r"
     ]
    },
    {
     "name": "stdout",
     "output_type": "stream",
     "text": [
      "+---------+-----------+------+\n",
      "|case_late|case_closed| count|\n",
      "+---------+-----------+------+\n",
      "|       NO|        YES|735616|\n",
      "|      YES|        YES| 87978|\n",
      "|       NO|         NO| 11585|\n",
      "|      YES|         NO|  6525|\n",
      "+---------+-----------+------+\n",
      "\n"
     ]
    },
    {
     "name": "stderr",
     "output_type": "stream",
     "text": [
      "                                                                                \r"
     ]
    }
   ],
   "source": [
    "# case_late, case_closed are YES/NO, change to Bool\n",
    "case_df.groupby('case_late', 'case_closed').count().show()"
   ]
  },
  {
   "cell_type": "code",
   "execution_count": 13,
   "id": "232a0731-4a23-421f-bea6-8e791f7b5eca",
   "metadata": {},
   "outputs": [],
   "source": [
    "case_df = case_df.withColumn('case_late', expr('case_late == \"YES\"')).withColumn('case_closed', expr('case_closed == \"YES\"'))"
   ]
  },
  {
   "cell_type": "code",
   "execution_count": 14,
   "id": "112d54ae-c8f5-4bf2-bb64-8fd5038b2dfb",
   "metadata": {},
   "outputs": [
    {
     "name": "stdout",
     "output_type": "stream",
     "text": [
      "-RECORD 0------------------------------------\n",
      " case_id              | 1014127332           \n",
      " case_opened_date     | 1/1/18 0:42          \n",
      " case_closed_date     | 1/1/18 12:29         \n",
      " case_due_date        | 9/26/20 0:42         \n",
      " case_late            | false                \n",
      " num_days_late        | -998.5087616000001   \n",
      " case_closed          | true                 \n",
      " dept_division        | Field Operations     \n",
      " service_request_type | Stray Animal         \n",
      " SLA_days             | 999.0                \n",
      " case_status          | Closed               \n",
      " source_id            | svcCRMLS             \n",
      " request_address      | 2315  EL PASO ST,... \n",
      " council_district     | 5                    \n",
      "-RECORD 1------------------------------------\n",
      " case_id              | 1014127333           \n",
      " case_opened_date     | 1/1/18 0:46          \n",
      " case_closed_date     | 1/3/18 8:11          \n",
      " case_due_date        | 1/5/18 8:30          \n",
      " case_late            | false                \n",
      " num_days_late        | -2.0126041669999997  \n",
      " case_closed          | true                 \n",
      " dept_division        | Storm Water          \n",
      " service_request_type | Removal Of Obstru... \n",
      " SLA_days             | 4.322222222          \n",
      " case_status          | Closed               \n",
      " source_id            | svcCRMSS             \n",
      " request_address      | 2215  GOLIAD RD, ... \n",
      " council_district     | 3                    \n",
      "only showing top 2 rows\n",
      "\n"
     ]
    }
   ],
   "source": [
    "case_df.show(2, vertical=True)"
   ]
  },
  {
   "cell_type": "code",
   "execution_count": 15,
   "id": "9b832793-f755-4056-9b65-c30e62e14466",
   "metadata": {},
   "outputs": [
    {
     "name": "stderr",
     "output_type": "stream",
     "text": [
      "[Stage 14:==================================================>       (7 + 1) / 8]\r"
     ]
    },
    {
     "name": "stdout",
     "output_type": "stream",
     "text": [
      "+----------------+------+\n",
      "|council_district| count|\n",
      "+----------------+------+\n",
      "|               1|119309|\n",
      "|               6| 74095|\n",
      "|               3|102706|\n",
      "|               5|114609|\n",
      "|               9| 40916|\n",
      "|               4| 93778|\n",
      "|               8| 42345|\n",
      "|               7| 72445|\n",
      "|              10| 62926|\n",
      "|               2|114745|\n",
      "|               0|  3830|\n",
      "+----------------+------+\n",
      "\n"
     ]
    },
    {
     "name": "stderr",
     "output_type": "stream",
     "text": [
      "                                                                                \r"
     ]
    }
   ],
   "source": [
    "# next, change council district to a string with leading zeroes\n",
    "case_df.groupby('council_district').count().show()"
   ]
  },
  {
   "cell_type": "code",
   "execution_count": 18,
   "id": "20a1fa1a-0626-473f-9aea-ade4d7d75b3f",
   "metadata": {},
   "outputs": [
    {
     "name": "stdout",
     "output_type": "stream",
     "text": [
      "-RECORD 0------------------------------------\n",
      " case_id              | 1014127332           \n",
      " case_opened_date     | 1/1/18 0:42          \n",
      " case_closed_date     | 1/1/18 12:29         \n",
      " case_due_date        | 9/26/20 0:42         \n",
      " case_late            | false                \n",
      " num_days_late        | -998.5087616000001   \n",
      " case_closed          | true                 \n",
      " dept_division        | Field Operations     \n",
      " service_request_type | Stray Animal         \n",
      " SLA_days             | 999.0                \n",
      " case_status          | Closed               \n",
      " source_id            | svcCRMLS             \n",
      " request_address      | 2315  EL PASO ST,... \n",
      " council_district     | 005                  \n",
      "-RECORD 1------------------------------------\n",
      " case_id              | 1014127333           \n",
      " case_opened_date     | 1/1/18 0:46          \n",
      " case_closed_date     | 1/3/18 8:11          \n",
      " case_due_date        | 1/5/18 8:30          \n",
      " case_late            | false                \n",
      " num_days_late        | -2.0126041669999997  \n",
      " case_closed          | true                 \n",
      " dept_division        | Storm Water          \n",
      " service_request_type | Removal Of Obstru... \n",
      " SLA_days             | 4.322222222          \n",
      " case_status          | Closed               \n",
      " source_id            | svcCRMSS             \n",
      " request_address      | 2215  GOLIAD RD, ... \n",
      " council_district     | 003                  \n",
      "only showing top 2 rows\n",
      "\n"
     ]
    }
   ],
   "source": [
    "case_df = case_df.withColumn('council_district', \n",
    "                   format_string('%03d', col('council_district').cast('int'))\n",
    "                  )\n",
    "case_df.show(2, vertical=True)"
   ]
  },
  {
   "cell_type": "code",
   "execution_count": 19,
   "id": "572efaa1-42d3-4ead-9416-c0d8fcb16c59",
   "metadata": {},
   "outputs": [
    {
     "name": "stderr",
     "output_type": "stream",
     "text": [
      "[Stage 18:>                                                         (0 + 8) / 8]\r"
     ]
    },
    {
     "name": "stdout",
     "output_type": "stream",
     "text": [
      "+----------------+------+\n",
      "|council_district| count|\n",
      "+----------------+------+\n",
      "|             009| 40916|\n",
      "|             006| 74095|\n",
      "|             005|114609|\n",
      "|             003|102706|\n",
      "|             008| 42345|\n",
      "|             001|119309|\n",
      "|             010| 62926|\n",
      "|             004| 93778|\n",
      "|             000|  3830|\n",
      "|             007| 72445|\n",
      "|             002|114745|\n",
      "+----------------+------+\n",
      "\n"
     ]
    },
    {
     "name": "stderr",
     "output_type": "stream",
     "text": [
      "                                                                                \r"
     ]
    }
   ],
   "source": [
    "case_df.groupby('council_district').count().show()"
   ]
  },
  {
   "cell_type": "code",
   "execution_count": 22,
   "id": "e80f33db-760a-4569-83a9-76e93f0a5c18",
   "metadata": {},
   "outputs": [
    {
     "name": "stdout",
     "output_type": "stream",
     "text": [
      "+-------------------+-------------------+-------------------+\n",
      "|   case_opened_date|   case_closed_date|      case_due_date|\n",
      "+-------------------+-------------------+-------------------+\n",
      "|2018-01-01 00:42:00|2018-01-01 12:29:00|2020-09-26 00:42:00|\n",
      "|2018-01-01 00:46:00|2018-01-03 08:11:00|2018-01-05 08:30:00|\n",
      "|2018-01-01 00:48:00|2018-01-02 07:57:00|2018-01-05 08:30:00|\n",
      "|2018-01-01 01:29:00|2018-01-02 08:13:00|2018-01-17 08:30:00|\n",
      "|2018-01-01 01:34:00|2018-01-01 13:29:00|2018-01-01 04:34:00|\n",
      "+-------------------+-------------------+-------------------+\n",
      "only showing top 5 rows\n",
      "\n"
     ]
    }
   ],
   "source": [
    "# let's change the dates from strings to dates\n",
    "# set format to send in to to_timestamp (slightly different from pd; uses Java's SimpleDateFormat)\n",
    "fmt = 'M/d/yy H:mm'\n",
    "case_df = (\n",
    "    case_df.withColumn('case_opened_date', to_timestamp('case_opened_date', fmt))\n",
    "    .withColumn('case_closed_date', to_timestamp('case_closed_date', fmt))\n",
    "    .withColumn('case_due_date', to_timestamp('case_due_date', fmt))\n",
    ")\n",
    "case_df.select('case_opened_date', 'case_closed_date', 'case_due_date').show(5)"
   ]
  },
  {
   "cell_type": "code",
   "execution_count": 26,
   "id": "73b5b5b6-f7ab-4d6e-9446-301ce6d06591",
   "metadata": {},
   "outputs": [
    {
     "name": "stdout",
     "output_type": "stream",
     "text": [
      "+-------------------------------------+\n",
      "|                      request_address|\n",
      "+-------------------------------------+\n",
      "| 2315  el paso st, san antonio, 78207|\n",
      "|  2215  goliad rd, san antonio, 78223|\n",
      "|102  palfrey st w, san antonio, 78223|\n",
      "| 114  la garde st, san antonio, 78223|\n",
      "|734  clearview dr, san antonio, 78228|\n",
      "+-------------------------------------+\n",
      "only showing top 5 rows\n",
      "\n"
     ]
    }
   ],
   "source": [
    "# let's trim (spark for strip) and lowercase the address column\n",
    "case_df = case_df.withColumn('request_address', trim(lower('request_address')))\n",
    "case_df.select('request_address').show(5, 50)"
   ]
  },
  {
   "cell_type": "code",
   "execution_count": 27,
   "id": "d61f2212-f062-455f-9e5e-dc6edb8117a4",
   "metadata": {},
   "outputs": [
    {
     "name": "stdout",
     "output_type": "stream",
     "text": [
      "root\n",
      " |-- case_id: integer (nullable = true)\n",
      " |-- case_opened_date: timestamp (nullable = true)\n",
      " |-- case_closed_date: timestamp (nullable = true)\n",
      " |-- case_due_date: timestamp (nullable = true)\n",
      " |-- case_late: boolean (nullable = true)\n",
      " |-- num_days_late: double (nullable = true)\n",
      " |-- case_closed: boolean (nullable = true)\n",
      " |-- dept_division: string (nullable = true)\n",
      " |-- service_request_type: string (nullable = true)\n",
      " |-- SLA_days: double (nullable = true)\n",
      " |-- case_status: string (nullable = true)\n",
      " |-- source_id: string (nullable = true)\n",
      " |-- request_address: string (nullable = true)\n",
      " |-- council_district: string (nullable = false)\n",
      "\n"
     ]
    }
   ],
   "source": [
    "# look at structure and datatypes again\n",
    "case_df.printSchema()"
   ]
  },
  {
   "cell_type": "code",
   "execution_count": 28,
   "id": "30754952-63b5-4f39-bf26-5e6f4dea8fd6",
   "metadata": {},
   "outputs": [
    {
     "name": "stdout",
     "output_type": "stream",
     "text": [
      "-RECORD 0------------------------------------\n",
      " case_id              | 1014127332           \n",
      " case_opened_date     | 2018-01-01 00:42:00  \n",
      " case_closed_date     | 2018-01-01 12:29:00  \n",
      " case_due_date        | 2020-09-26 00:42:00  \n",
      " case_late            | false                \n",
      " num_days_late        | -998.5087616000001   \n",
      " case_closed          | true                 \n",
      " dept_division        | Field Operations     \n",
      " service_request_type | Stray Animal         \n",
      " SLA_days             | 999.0                \n",
      " case_status          | Closed               \n",
      " source_id            | svcCRMLS             \n",
      " request_address      | 2315  el paso st,... \n",
      " council_district     | 005                  \n",
      "-RECORD 1------------------------------------\n",
      " case_id              | 1014127333           \n",
      " case_opened_date     | 2018-01-01 00:46:00  \n",
      " case_closed_date     | 2018-01-03 08:11:00  \n",
      " case_due_date        | 2018-01-05 08:30:00  \n",
      " case_late            | false                \n",
      " num_days_late        | -2.0126041669999997  \n",
      " case_closed          | true                 \n",
      " dept_division        | Storm Water          \n",
      " service_request_type | Removal Of Obstru... \n",
      " SLA_days             | 4.322222222          \n",
      " case_status          | Closed               \n",
      " source_id            | svcCRMSS             \n",
      " request_address      | 2215  goliad rd, ... \n",
      " council_district     | 003                  \n",
      "only showing top 2 rows\n",
      "\n"
     ]
    }
   ],
   "source": [
    "case_df.show(2, vertical=True)"
   ]
  },
  {
   "cell_type": "code",
   "execution_count": 29,
   "id": "c74867c7-d0b2-4019-9b46-9848f576e8d9",
   "metadata": {},
   "outputs": [],
   "source": [
    "# Good enough. i could lowercase the other string columns, but I'm moving on to the rest of the exercises"
   ]
  },
  {
   "cell_type": "markdown",
   "id": "5c3b2833-c28d-43e3-ba33-f2c443aaf37b",
   "metadata": {},
   "source": [
    "# Exercises (cont.)\n",
    "    How old is the latest (in terms of days past SLA) currently open issue? \n",
    "        - case_id 1013225646 was opened 2017-01-01\n",
    "        - it is 349 days late (past case_due_date)\n",
    "        - it has been open 2376 days (cao 5 Jul 2023)\n",
    "        \n",
    "    How long has the oldest (in terms of days since opened) currently opened issue been open?\n",
    "        - There are two cases that have been open 2376 days which is the oldest currently open cases\n",
    "            - 1013225646 and 1013225651"
   ]
  },
  {
   "cell_type": "code",
   "execution_count": 33,
   "id": "65294cbe-07cc-4285-8c0d-c2c015c9bd99",
   "metadata": {},
   "outputs": [
    {
     "name": "stderr",
     "output_type": "stream",
     "text": [
      "[Stage 28:>                                                         (0 + 8) / 8]\r"
     ]
    },
    {
     "name": "stdout",
     "output_type": "stream",
     "text": [
      "-RECORD 0------------------------------------\n",
      " case_id              | 1013225646           \n",
      " case_opened_date     | 2017-01-01 13:48:00  \n",
      " case_closed_date     | null                 \n",
      " case_due_date        | 2017-01-17 08:30:00  \n",
      " case_late            | true                 \n",
      " num_days_late        | 348.6458333          \n",
      " case_closed          | false                \n",
      " dept_division        | Code Enforcement     \n",
      " service_request_type | No Address Posted    \n",
      " SLA_days             | 15.77859954          \n",
      " case_status          | Open                 \n",
      " source_id            | svcCRMSS             \n",
      " request_address      | 7299  shadow ridg... \n",
      " council_district     | 006                  \n",
      "-RECORD 1------------------------------------\n",
      " case_id              | 1013225651           \n",
      " case_opened_date     | 2017-01-01 13:57:00  \n",
      " case_closed_date     | null                 \n",
      " case_due_date        | 2017-01-17 08:30:00  \n",
      " case_late            | true                 \n",
      " num_days_late        | 348.6458333          \n",
      " case_closed          | false                \n",
      " dept_division        | Code Enforcement     \n",
      " service_request_type | No Address Posted    \n",
      " SLA_days             | 15.77247685          \n",
      " case_status          | Open                 \n",
      " source_id            | svcCRMSS             \n",
      " request_address      | 7295  shadow ridg... \n",
      " council_district     | 006                  \n",
      "only showing top 2 rows\n",
      "\n"
     ]
    },
    {
     "name": "stderr",
     "output_type": "stream",
     "text": [
      "                                                                                \r"
     ]
    }
   ],
   "source": [
    "# I am reading this to mean what currently open item is most late, and I am reading\n",
    "# that num_days_late is a measure of how late something is. So what is the record \n",
    "# with the max value for num_days_late\n",
    "case_df[case_df.case_closed == 'false'].sort(col('num_days_late').desc()).show(2, vertical=True)"
   ]
  },
  {
   "cell_type": "code",
   "execution_count": 37,
   "id": "5a890f2a-deb5-45f9-b88a-f3b1a4fcfe61",
   "metadata": {},
   "outputs": [],
   "source": [
    "# this code gets me the number of days since a case was opened\n",
    "case_df = case_df.withColumn('days_since_opened', datediff(current_timestamp(), 'case_opened_date'))"
   ]
  },
  {
   "cell_type": "code",
   "execution_count": 43,
   "id": "d185cdf0-a977-45bb-bb31-b559405d3b94",
   "metadata": {},
   "outputs": [
    {
     "name": "stderr",
     "output_type": "stream",
     "text": [
      "[Stage 34:>                                                         (0 + 8) / 8]\r"
     ]
    },
    {
     "name": "stdout",
     "output_type": "stream",
     "text": [
      "+----------+-------------------+-------------------+-----------+-----------------+\n",
      "|   case_id|   case_opened_date|      case_due_date|case_closed|days_since_opened|\n",
      "+----------+-------------------+-------------------+-----------+-----------------+\n",
      "|1013225646|2017-01-01 13:48:00|2017-01-17 08:30:00|      false|             2376|\n",
      "|1013225651|2017-01-01 13:57:00|2017-01-17 08:30:00|      false|             2376|\n",
      "|1013226813|2017-01-02 11:26:00|2017-01-17 11:26:00|      false|             2375|\n",
      "|1013229328|2017-01-03 10:01:00|2017-01-18 10:01:00|      false|             2374|\n",
      "|1013232133|2017-01-04 09:42:00|2017-05-12 09:42:00|      false|             2373|\n",
      "+----------+-------------------+-------------------+-----------+-----------------+\n",
      "only showing top 5 rows\n",
      "\n"
     ]
    },
    {
     "name": "stderr",
     "output_type": "stream",
     "text": [
      "                                                                                \r"
     ]
    }
   ],
   "source": [
    "( \n",
    "    case_df[case_df.case_closed == 'false']\n",
    "    .sort(col('days_since_opened').desc())\n",
    "    .select('case_id', 'case_opened_date', 'case_due_date', 'case_closed', 'days_since_opened').show(5)\n",
    ")"
   ]
  },
  {
   "cell_type": "markdown",
   "id": "94b7a116-fb1a-4a78-aa40-02bffa057515",
   "metadata": {},
   "source": [
    "    How many Stray Animal cases are there?\n",
    "    - 26,760"
   ]
  },
  {
   "cell_type": "code",
   "execution_count": 59,
   "id": "e4402551-70ec-4eba-966d-3f55c6b137dc",
   "metadata": {},
   "outputs": [
    {
     "name": "stderr",
     "output_type": "stream",
     "text": [
      "                                                                                \r"
     ]
    },
    {
     "data": {
      "text/plain": [
       "26760"
      ]
     },
     "execution_count": 59,
     "metadata": {},
     "output_type": "execute_result"
    }
   ],
   "source": [
    "# answer for that question\n",
    "case_df[case_df.service_request_type == 'Stray Animal'].count()"
   ]
  },
  {
   "cell_type": "code",
   "execution_count": 60,
   "id": "46842d9b-26d9-4851-9cac-45976ceb13d3",
   "metadata": {},
   "outputs": [
    {
     "name": "stdout",
     "output_type": "stream",
     "text": [
      "+--------------------------------------+-----+\n",
      "|                  service_request_type|count|\n",
      "+--------------------------------------+-----+\n",
      "|                    Dead Animal - Misc|13234|\n",
      "|         Animal Investigation Referral|   15|\n",
      "|                Animal Permits Request| 3026|\n",
      "|        Solid Waste Insp: Dead Animals|  401|\n",
      "|              Injured Animal(Critical)| 9633|\n",
      "|        Dead Animal - Private Property|  190|\n",
      "|             Animal Bite(Non-Critical)| 4750|\n",
      "|                          Stray Animal|26760|\n",
      "|               Trapped/Confined Animal|11354|\n",
      "|           City Council Animal Request|  365|\n",
      "|       Aggressive Animal(Non-Critical)|24882|\n",
      "|                 Animal Bite(Critical)|  708|\n",
      "|           Public Nuisance(Own Animal)|10715|\n",
      "|                     Dead Animal - Dog|16714|\n",
      "|Fly Breeding and Animal Waste Disposal|   51|\n",
      "|                     Dead Animal - Cat|14983|\n",
      "|           Aggressive Animal(Critical)| 5266|\n",
      "|              Animal Cruelty(Critical)| 3001|\n",
      "|                        Animal Neglect|13441|\n",
      "+--------------------------------------+-----+\n",
      "\n"
     ]
    },
    {
     "name": "stderr",
     "output_type": "stream",
     "text": [
      "                                                                                \r"
     ]
    }
   ],
   "source": [
    "# just checking to see if there might be other version of \"Stray Animal\"\n",
    "case_df[case_df.service_request_type.contains('Animal')].groupby('service_request_type').count().show(50, 50)"
   ]
  },
  {
   "cell_type": "markdown",
   "id": "e0424352-2aa2-4a06-b636-6cb359653b09",
   "metadata": {},
   "source": [
    "    How many service requests that are assigned to the Field Operations department (dept_division) are not classified as \"Officer Standby\" request type (service_request_type)?\n",
    "    - 113902"
   ]
  },
  {
   "cell_type": "code",
   "execution_count": 62,
   "id": "2e26f2f9-0818-4418-bc7e-59cfae69e869",
   "metadata": {},
   "outputs": [
    {
     "name": "stderr",
     "output_type": "stream",
     "text": [
      "                                                                                \r"
     ]
    },
    {
     "data": {
      "text/plain": [
       "113902"
      ]
     },
     "execution_count": 62,
     "metadata": {},
     "output_type": "execute_result"
    }
   ],
   "source": [
    "# answer for that question\n",
    "case_df[(case_df.dept_division == 'Field Operations') & (case_df.service_request_type != 'Officer Standby')].count()"
   ]
  },
  {
   "cell_type": "code",
   "execution_count": 64,
   "id": "60648f49-6c3e-45b6-a8a7-71be2129e4a8",
   "metadata": {},
   "outputs": [
    {
     "name": "stderr",
     "output_type": "stream",
     "text": [
      "[Stage 73:>                                                         (0 + 8) / 8]\r"
     ]
    },
    {
     "name": "stdout",
     "output_type": "stream",
     "text": [
      "+--------------------+------+\n",
      "|       dept_division| count|\n",
      "+--------------------+------+\n",
      "|       Miscellaneous| 45123|\n",
      "|         Solid Waste|   813|\n",
      "|    Field Operations|116915|\n",
      "|             Streets| 38510|\n",
      "|    Waste Collection|215122|\n",
      "|Code Enforcement ...|  2189|\n",
      "|              Vector|   538|\n",
      "|   Dangerous Premise| 15479|\n",
      "|     311 Call Center|  2849|\n",
      "|               Brush| 18212|\n",
      "|Dangerous Premise...|    36|\n",
      "|Traffic Engineeri...|  4334|\n",
      "|Code Enforcement ...|   198|\n",
      "|          District 2|     3|\n",
      "|             Signals| 20700|\n",
      "|Engineering Division|  1375|\n",
      "|Director's Office...|   515|\n",
      "|         Storm Water| 13769|\n",
      "|               Shops|   112|\n",
      "|Storm Water Engin...|   494|\n",
      "+--------------------+------+\n",
      "only showing top 20 rows\n",
      "\n"
     ]
    },
    {
     "name": "stderr",
     "output_type": "stream",
     "text": [
      "                                                                                \r"
     ]
    }
   ],
   "source": [
    "# just checking to see what those two columns look like\n",
    "case_df.groupby('dept_division').count().show()"
   ]
  },
  {
   "cell_type": "code",
   "execution_count": 65,
   "id": "efb49243-087f-4eff-a9c7-984df6eae86c",
   "metadata": {},
   "outputs": [
    {
     "name": "stderr",
     "output_type": "stream",
     "text": [
      "[Stage 76:>                                                         (0 + 8) / 8]\r"
     ]
    },
    {
     "name": "stdout",
     "output_type": "stream",
     "text": [
      "+--------------------+-----+\n",
      "|service_request_type|count|\n",
      "+--------------------+-----+\n",
      "|Minimum Housing-O...| 8543|\n",
      "|        Tree Removal|  298|\n",
      "| Service Information|  160|\n",
      "|    Sign Maintenance|   82|\n",
      "|Park Building Mai...|   48|\n",
      "|Brush Property Da...|  184|\n",
      "|Graffiti: Private...| 8525|\n",
      "|Traffic Sign Graf...| 2123|\n",
      "|License Renewal I...| 1349|\n",
      "|Guardrail- New Re...|  100|\n",
      "|Markings Installa...|    8|\n",
      "|   Sewer Line Broken| 1107|\n",
      "|Zoning: Multi-Fam...|  735|\n",
      "|Engineering Inves...|  489|\n",
      "|    Zoning: Setbacks|  809|\n",
      "|  Traffic Sign Faded| 2122|\n",
      "|     Permits, Fences| 1137|\n",
      "|Certificates of O...| 1571|\n",
      "|  Dead Animal - Misc|13234|\n",
      "|Garage Sales No P...| 2424|\n",
      "+--------------------+-----+\n",
      "only showing top 20 rows\n",
      "\n"
     ]
    },
    {
     "name": "stderr",
     "output_type": "stream",
     "text": [
      "                                                                                \r"
     ]
    }
   ],
   "source": [
    "# just checking to see what those two columns look like\n",
    "case_df.groupby('service_request_type').count().show()"
   ]
  },
  {
   "cell_type": "markdown",
   "id": "8d0130c8-23ec-474f-aeda-41233473b065",
   "metadata": {},
   "source": [
    "    Convert the council_district column to a string column.\n",
    "    - already done\n",
    "    \n",
    "    Extract the year from the case_closed_date column.\n",
    "    - "
   ]
  },
  {
   "cell_type": "code",
   "execution_count": 67,
   "id": "6bec8749-8604-45d3-a0d6-c35b99162c8b",
   "metadata": {},
   "outputs": [
    {
     "name": "stdout",
     "output_type": "stream",
     "text": [
      "+-------------------+----------------+\n",
      "|   case_closed_date|case_closed_year|\n",
      "+-------------------+----------------+\n",
      "|2018-01-01 12:29:00|            2018|\n",
      "|2018-01-03 08:11:00|            2018|\n",
      "|2018-01-02 07:57:00|            2018|\n",
      "|2018-01-02 08:13:00|            2018|\n",
      "|2018-01-01 13:29:00|            2018|\n",
      "+-------------------+----------------+\n",
      "only showing top 5 rows\n",
      "\n"
     ]
    }
   ],
   "source": [
    "# extracting year from case_closed_date column\n",
    "case_df.withColumn('case_closed_year', year('case_closed_date')).select('case_closed_date', 'case_closed_year').show(5)"
   ]
  },
  {
   "cell_type": "markdown",
   "id": "36000722-ea64-4ead-99a0-8ad741d44ea9",
   "metadata": {},
   "source": [
    "    Convert num_days_late from days to hours in new columns num_hours_late."
   ]
  },
  {
   "cell_type": "code",
   "execution_count": 68,
   "id": "fecdf28b-44b4-4a7f-bb6c-65e1575d7e33",
   "metadata": {},
   "outputs": [
    {
     "name": "stdout",
     "output_type": "stream",
     "text": [
      "-RECORD 0------------------------------------\n",
      " case_id              | 1014127332           \n",
      " case_opened_date     | 2018-01-01 00:42:00  \n",
      " case_closed_date     | 2018-01-01 12:29:00  \n",
      " case_due_date        | 2020-09-26 00:42:00  \n",
      " case_late            | false                \n",
      " num_days_late        | -998.5087616000001   \n",
      " case_closed          | true                 \n",
      " dept_division        | Field Operations     \n",
      " service_request_type | Stray Animal         \n",
      " SLA_days             | 999.0                \n",
      " case_status          | Closed               \n",
      " source_id            | svcCRMLS             \n",
      " request_address      | 2315  el paso st,... \n",
      " council_district     | 005                  \n",
      " days_since_opened    | 2011                 \n",
      " num_hours_late       | -23964.2102784       \n",
      "-RECORD 1------------------------------------\n",
      " case_id              | 1014127333           \n",
      " case_opened_date     | 2018-01-01 00:46:00  \n",
      " case_closed_date     | 2018-01-03 08:11:00  \n",
      " case_due_date        | 2018-01-05 08:30:00  \n",
      " case_late            | false                \n",
      " num_days_late        | -2.0126041669999997  \n",
      " case_closed          | true                 \n",
      " dept_division        | Storm Water          \n",
      " service_request_type | Removal Of Obstru... \n",
      " SLA_days             | 4.322222222          \n",
      " case_status          | Closed               \n",
      " source_id            | svcCRMSS             \n",
      " request_address      | 2215  goliad rd, ... \n",
      " council_district     | 003                  \n",
      " days_since_opened    | 2011                 \n",
      " num_hours_late       | -48.302500007999996  \n",
      "only showing top 2 rows\n",
      "\n"
     ]
    }
   ],
   "source": [
    "case_df.withColumn('num_hours_late', col('num_days_late') * 24).show(2, vertical=True)"
   ]
  },
  {
   "cell_type": "markdown",
   "id": "4122d998-f6bc-4b06-94f6-8e60bd5658ef",
   "metadata": {},
   "source": [
    "    Join the case data with the source and department data."
   ]
  },
  {
   "cell_type": "code",
   "execution_count": 71,
   "id": "1b36c879-98d5-4633-b445-309d54d3296d",
   "metadata": {},
   "outputs": [
    {
     "name": "stdout",
     "output_type": "stream",
     "text": [
      "+---------+\n",
      "|source_id|\n",
      "+---------+\n",
      "| svcCRMLS|\n",
      "| svcCRMSS|\n",
      "| svcCRMSS|\n",
      "| svcCRMSS|\n",
      "| svcCRMSS|\n",
      "| svcCRMSS|\n",
      "| svcCRMSS|\n",
      "| svcCRMSS|\n",
      "| svcCRMSS|\n",
      "| svcCRMSS|\n",
      "+---------+\n",
      "only showing top 10 rows\n",
      "\n"
     ]
    }
   ],
   "source": [
    "case_df.select('source_id').show(10)"
   ]
  },
  {
   "cell_type": "code",
   "execution_count": 77,
   "id": "d7ddf52e-d560-41f9-b708-6917b76b1b32",
   "metadata": {},
   "outputs": [
    {
     "name": "stdout",
     "output_type": "stream",
     "text": [
      "root\n",
      " |-- source_id: string (nullable = true)\n",
      " |-- source_username: string (nullable = true)\n",
      "\n"
     ]
    }
   ],
   "source": [
    "source_df.printSchema()"
   ]
  },
  {
   "cell_type": "code",
   "execution_count": 78,
   "id": "6b28ae64-c0ed-42c6-9820-b2fd20d22c28",
   "metadata": {},
   "outputs": [
    {
     "name": "stdout",
     "output_type": "stream",
     "text": [
      "+---------+----------------+\n",
      "|source_id| source_username|\n",
      "+---------+----------------+\n",
      "|   100137|Merlene Blodgett|\n",
      "|   103582|     Carmen Cura|\n",
      "|   106463| Richard Sanchez|\n",
      "|   119403|  Betty De Hoyos|\n",
      "|   119555|  Socorro Quiara|\n",
      "+---------+----------------+\n",
      "only showing top 5 rows\n",
      "\n"
     ]
    }
   ],
   "source": [
    "source_df.show(5)"
   ]
  },
  {
   "cell_type": "code",
   "execution_count": 80,
   "id": "1f6c97c2-a0a4-4edf-8a7e-d40b03297972",
   "metadata": {},
   "outputs": [
    {
     "name": "stdout",
     "output_type": "stream",
     "text": [
      "+---------+-----+\n",
      "|source_id|count|\n",
      "+---------+-----+\n",
      "|   136202|    1|\n",
      "|   141239|    1|\n",
      "|  MW16328|    1|\n",
      "|  df03076|    1|\n",
      "|   141549|    1|\n",
      "|   142989|    1|\n",
      "|  mp21218|    1|\n",
      "|  sp26368|    1|\n",
      "|  sg26196|    1|\n",
      "|  ec25702|    1|\n",
      "|  bo26471|    1|\n",
      "|  js26451|    1|\n",
      "|  js12254|    1|\n",
      "|  sg22264|    1|\n",
      "|  ss26317|    1|\n",
      "|  bn26322|    1|\n",
      "|  BA10591|    1|\n",
      "|  jg06389|    1|\n",
      "|   140509|    1|\n",
      "|  MR25792|    1|\n",
      "+---------+-----+\n",
      "only showing top 20 rows\n",
      "\n"
     ]
    }
   ],
   "source": [
    "source_df.groupby('source_id').count().show()"
   ]
  },
  {
   "cell_type": "code",
   "execution_count": 70,
   "id": "cbb67419-a93a-4364-9f22-b9d6afce5119",
   "metadata": {},
   "outputs": [
    {
     "name": "stdout",
     "output_type": "stream",
     "text": [
      "+--------------------+--------------------+----------------------+-------------------+\n",
      "|       dept_division|           dept_name|standardized_dept_name|dept_subject_to_SLA|\n",
      "+--------------------+--------------------+----------------------+-------------------+\n",
      "|     311 Call Center|    Customer Service|      Customer Service|                YES|\n",
      "|               Brush|Solid Waste Manag...|           Solid Waste|                YES|\n",
      "|     Clean and Green|Parks and Recreation|    Parks & Recreation|                YES|\n",
      "|Clean and Green N...|Parks and Recreation|    Parks & Recreation|                YES|\n",
      "|    Code Enforcement|Code Enforcement ...|  DSD/Code Enforcement|                YES|\n",
      "+--------------------+--------------------+----------------------+-------------------+\n",
      "only showing top 5 rows\n",
      "\n"
     ]
    }
   ],
   "source": [
    "dept_df.show(5)"
   ]
  },
  {
   "cell_type": "code",
   "execution_count": 74,
   "id": "66066e5a-bf8b-4354-97c9-e74940f8967d",
   "metadata": {},
   "outputs": [
    {
     "name": "stdout",
     "output_type": "stream",
     "text": [
      "-RECORD 0------------------------------------\n",
      " case_id              | 1014127332           \n",
      " case_opened_date     | 2018-01-01 00:42:00  \n",
      " case_closed_date     | 2018-01-01 12:29:00  \n",
      " case_due_date        | 2020-09-26 00:42:00  \n",
      " case_late            | false                \n",
      " num_days_late        | -998.5087616000001   \n",
      " case_closed          | true                 \n",
      " service_request_type | Stray Animal         \n",
      " SLA_days             | 999.0                \n",
      " case_status          | Closed               \n",
      " source_id            | svcCRMLS             \n",
      " request_address      | 2315  el paso st,... \n",
      " council_district     | 005                  \n",
      " days_since_opened    | 2011                 \n",
      " department           | Animal Care Services \n",
      " dept_subject_to_SLA  | true                 \n",
      "-RECORD 1------------------------------------\n",
      " case_id              | 1014127333           \n",
      " case_opened_date     | 2018-01-01 00:46:00  \n",
      " case_closed_date     | 2018-01-03 08:11:00  \n",
      " case_due_date        | 2018-01-05 08:30:00  \n",
      " case_late            | false                \n",
      " num_days_late        | -2.0126041669999997  \n",
      " case_closed          | true                 \n",
      " service_request_type | Removal Of Obstru... \n",
      " SLA_days             | 4.322222222          \n",
      " case_status          | Closed               \n",
      " source_id            | svcCRMSS             \n",
      " request_address      | 2215  goliad rd, ... \n",
      " council_district     | 003                  \n",
      " days_since_opened    | 2011                 \n",
      " department           | Trans & Cap Impro... \n",
      " dept_subject_to_SLA  | true                 \n",
      "only showing top 2 rows\n",
      "\n"
     ]
    }
   ],
   "source": [
    "join_df = (\n",
    "    \n",
    "    case_df.join(dept_df, 'dept_division', 'left')\n",
    "    # drop all the 'dept' columns except for standardized_dept_name since it has fewere characters\n",
    "    .drop(case_df.dept_division)\n",
    "    .drop(dept_df.dept_division)\n",
    "    .drop(dept_df.dept_name)\n",
    "    # rename standardized_dept_name column to department\n",
    "    .withColumnRenamed('standardized_dept_name', 'department')\n",
    "    # convert last column to boolean\n",
    "    .withColumn('dept_subject_to_SLA', col('dept_subject_to_SLA') == 'YES')\n",
    ")\n",
    "join_df.show(2, vertical=True)"
   ]
  },
  {
   "cell_type": "code",
   "execution_count": 83,
   "id": "09b59f67-2a5d-47de-960e-aa551183c33a",
   "metadata": {},
   "outputs": [
    {
     "name": "stdout",
     "output_type": "stream",
     "text": [
      "-RECORD 0------------------------------------\n",
      " source_id            | svcCRMLS             \n",
      " case_id              | 1014127332           \n",
      " case_opened_date     | 2018-01-01 00:42:00  \n",
      " case_closed_date     | 2018-01-01 12:29:00  \n",
      " case_due_date        | 2020-09-26 00:42:00  \n",
      " case_late            | false                \n",
      " num_days_late        | -998.5087616000001   \n",
      " case_closed          | true                 \n",
      " service_request_type | Stray Animal         \n",
      " SLA_days             | 999.0                \n",
      " case_status          | Closed               \n",
      " request_address      | 2315  el paso st,... \n",
      " council_district     | 005                  \n",
      " days_since_opened    | 2011                 \n",
      " department           | Animal Care Services \n",
      " dept_subject_to_SLA  | true                 \n",
      " source_username      | svcCRMLS             \n",
      "-RECORD 1------------------------------------\n",
      " source_id            | svcCRMSS             \n",
      " case_id              | 1014127333           \n",
      " case_opened_date     | 2018-01-01 00:46:00  \n",
      " case_closed_date     | 2018-01-03 08:11:00  \n",
      " case_due_date        | 2018-01-05 08:30:00  \n",
      " case_late            | false                \n",
      " num_days_late        | -2.0126041669999997  \n",
      " case_closed          | true                 \n",
      " service_request_type | Removal Of Obstru... \n",
      " SLA_days             | 4.322222222          \n",
      " case_status          | Closed               \n",
      " request_address      | 2215  goliad rd, ... \n",
      " council_district     | 003                  \n",
      " days_since_opened    | 2011                 \n",
      " department           | Trans & Cap Impro... \n",
      " dept_subject_to_SLA  | true                 \n",
      " source_username      | svcCRMSS             \n",
      "only showing top 2 rows\n",
      "\n"
     ]
    }
   ],
   "source": [
    "# I'm just going to do a left join with source_id. there may be some nulls for \n",
    "# source_username, but at least I won't generate nulls for all those other columns IF\n",
    "# there happened to be sources with no cases\n",
    "join_df = (\n",
    "    join_df.join(source_df, 'source_id', 'left')\n",
    "    # drop the extra source_id\n",
    "    .drop(source_df.source_id)\n",
    ")\n",
    "join_df.show(2, vertical=True)"
   ]
  },
  {
   "cell_type": "markdown",
   "id": "bf24d3d1-8502-4129-8bec-ad5043090304",
   "metadata": {},
   "source": [
    "    Are there any cases that do not have a request source?\n",
    "    - every case has some kind of a source listed; however sometimes the source_id is one of these three values:\n",
    "        - svcCFlag\n",
    "        - svcCRMLS\n",
    "        - svcCRMSS\n",
    "        \n",
    "    - in those cases, the source_username is not a person's name"
   ]
  },
  {
   "cell_type": "code",
   "execution_count": 84,
   "id": "df9e91eb-423f-4f18-8ee0-54fd8b434007",
   "metadata": {},
   "outputs": [
    {
     "name": "stdout",
     "output_type": "stream",
     "text": [
      "+---------+---------------+\n",
      "|source_id|source_username|\n",
      "+---------+---------------+\n",
      "| svcCFlag|       CityFlag|\n",
      "| svcCRMLS|       svcCRMLS|\n",
      "| svcCRMSS|       svcCRMSS|\n",
      "+---------+---------------+\n",
      "\n"
     ]
    }
   ],
   "source": [
    "# investigating source_df a little bit\n",
    "source_df[source_df.source_id.contains('svc')].show(10, 50)"
   ]
  },
  {
   "cell_type": "code",
   "execution_count": 86,
   "id": "8b19be84-a894-4d1d-97ae-eb9e750e854e",
   "metadata": {},
   "outputs": [
    {
     "name": "stdout",
     "output_type": "stream",
     "text": [
      "(0 rows)\n",
      "\n"
     ]
    }
   ],
   "source": [
    "join_df[join_df.source_username == 'null'].show(2, vertical=True)"
   ]
  },
  {
   "cell_type": "code",
   "execution_count": 92,
   "id": "004bdcc2-37f5-463d-9e4b-3fddb8d7560b",
   "metadata": {},
   "outputs": [
    {
     "name": "stderr",
     "output_type": "stream",
     "text": [
      "[Stage 127:>                                                        (0 + 8) / 8]\r"
     ]
    },
    {
     "name": "stdout",
     "output_type": "stream",
     "text": [
      "+----------+\n",
      "|sum(count)|\n",
      "+----------+\n",
      "|    855269|\n",
      "+----------+\n",
      "\n"
     ]
    },
    {
     "name": "stderr",
     "output_type": "stream",
     "text": [
      "                                                                                \r"
     ]
    }
   ],
   "source": [
    "join_df.groupby('source_username').count().agg(sum('count')).show()"
   ]
  },
  {
   "cell_type": "code",
   "execution_count": 93,
   "id": "ad24352e-ee51-4102-b19e-9a8687e5e957",
   "metadata": {},
   "outputs": [
    {
     "name": "stderr",
     "output_type": "stream",
     "text": [
      "                                                                                \r"
     ]
    },
    {
     "data": {
      "text/plain": [
       "855269"
      ]
     },
     "execution_count": 93,
     "metadata": {},
     "output_type": "execute_result"
    }
   ],
   "source": [
    "join_df.count()"
   ]
  },
  {
   "cell_type": "markdown",
   "id": "b4c17950-e47f-43e1-991c-4b3ca63954ce",
   "metadata": {},
   "source": [
    "    What are the top 10 service request types in terms of number of requests?\n",
    "    - No Pickup\n",
    "    - Overgrown Yard/Trash\n",
    "    - Bandit Signs"
   ]
  },
  {
   "cell_type": "code",
   "execution_count": 94,
   "id": "cd35d3b7-79e3-4d14-9eaa-988fad4d2709",
   "metadata": {},
   "outputs": [
    {
     "name": "stderr",
     "output_type": "stream",
     "text": [
      "[Stage 140:>                                                        (0 + 8) / 8]\r"
     ]
    },
    {
     "name": "stdout",
     "output_type": "stream",
     "text": [
      "+--------------------+-----+\n",
      "|service_request_type|count|\n",
      "+--------------------+-----+\n",
      "|           No Pickup|89210|\n",
      "|Overgrown Yard/Trash|66403|\n",
      "|        Bandit Signs|32968|\n",
      "|        Damaged Cart|31163|\n",
      "|Front Or Side Yar...|28920|\n",
      "|        Stray Animal|27361|\n",
      "|Aggressive Animal...|25492|\n",
      "|Cart Exchange Req...|22608|\n",
      "|Junk Vehicle On P...|21649|\n",
      "|     Pot Hole Repair|20827|\n",
      "|Alley-Way Mainten...|20293|\n",
      "|    Lost/Stolen Cart|19299|\n",
      "|Right Of Way/Side...|17836|\n",
      "|   Dead Animal - Dog|17092|\n",
      "|       Cart Delivery|15761|\n",
      "|   Dead Animal - Cat|15345|\n",
      "|      Animal Neglect|13851|\n",
      "|  Dead Animal - Misc|13535|\n",
      "|Trapped/Confined ...|11605|\n",
      "|Public Nuisance(O...|10969|\n",
      "+--------------------+-----+\n",
      "only showing top 20 rows\n",
      "\n"
     ]
    },
    {
     "name": "stderr",
     "output_type": "stream",
     "text": [
      "                                                                                \r"
     ]
    }
   ],
   "source": [
    "join_df.groupby('service_request_type').count().sort(desc('count')).show()"
   ]
  },
  {
   "cell_type": "markdown",
   "id": "328db0b2-6c58-42cf-9c19-dc7806c32cea",
   "metadata": {},
   "source": [
    "    What are the top 10 service request types in terms of average days late?\n",
    "    "
   ]
  },
  {
   "cell_type": "code",
   "execution_count": 104,
   "id": "fdcb017d-f405-4ab1-bd9c-e2f36bd26094",
   "metadata": {},
   "outputs": [
    {
     "name": "stderr",
     "output_type": "stream",
     "text": [
      "[Stage 155:=======>                                                 (1 + 7) / 8]\r"
     ]
    },
    {
     "name": "stdout",
     "output_type": "stream",
     "text": [
      "+--------------------+------------+-------------------+\n",
      "|service_request_type|num_requests|      avg_days_late|\n",
      "+--------------------+------------+-------------------+\n",
      "|           No Pickup|       89210| -2.469090182038157|\n",
      "|Overgrown Yard/Trash|       66403| -46.35809395583575|\n",
      "|        Bandit Signs|       32968| -4.479319586874467|\n",
      "|        Damaged Cart|       31163|-3.5030070988018145|\n",
      "|Front Or Side Yar...|       28920|  -9.14277794990003|\n",
      "|        Stray Animal|       27361| -998.8064665118969|\n",
      "|Aggressive Animal...|       25492|  2.645033883163268|\n",
      "|Cart Exchange Req...|       22608| -3.527041146943587|\n",
      "|Junk Vehicle On P...|       21649| -42.66611918822536|\n",
      "|     Pot Hole Repair|       20827|-1.9402268156181486|\n",
      "+--------------------+------------+-------------------+\n",
      "only showing top 10 rows\n",
      "\n"
     ]
    },
    {
     "name": "stderr",
     "output_type": "stream",
     "text": [
      "                                                                                \r"
     ]
    }
   ],
   "source": [
    "# here are the top 10 service_request_types sorted by num_requests with the avg_days late\n",
    "(\n",
    "    join_df.groupby('service_request_type')\n",
    "    .agg(count('service_request_type').alias('num_requests'),\n",
    "         mean('num_days_late').alias('avg_days_late'))\n",
    "    .sort(desc('num_requests')).show(10)\n",
    ")"
   ]
  },
  {
   "cell_type": "code",
   "execution_count": 106,
   "id": "aaf04aeb-a7c2-4721-80cc-a80ee9ef1e13",
   "metadata": {},
   "outputs": [
    {
     "name": "stderr",
     "output_type": "stream",
     "text": [
      "[Stage 165:>                                                        (0 + 8) / 8]\r"
     ]
    },
    {
     "name": "stdout",
     "output_type": "stream",
     "text": [
      "+--------------------------------------+------------+------------------+\n",
      "|                  service_request_type|num_requests|     avg_days_late|\n",
      "+--------------------------------------+------------+------------------+\n",
      "|                    Zoning: Junk Yards|         296|175.95636210420943|\n",
      "|            Labeling for Used Mattress|           7|162.43032902285717|\n",
      "|     Record Keeping of Used Mattresses|           7|153.99724039428568|\n",
      "|Signage Requied for Sale of Used Mattr|          12|151.63868055333333|\n",
      "|              Storage of Used Mattress|           8|142.11255641500003|\n",
      "|                  Zoning: Recycle Yard|         198|135.92851612479797|\n",
      "|        Donation Container Enforcement|         155|131.75610506358706|\n",
      "|   License Requied Used Mattress Sales|           7|128.79828704142858|\n",
      "|               Traffic Signal Graffiti|           5|101.79846062200002|\n",
      "|                             Complaint|        2420|  72.8705023031169|\n",
      "+--------------------------------------+------------+------------------+\n",
      "only showing top 10 rows\n",
      "\n"
     ]
    },
    {
     "name": "stderr",
     "output_type": "stream",
     "text": [
      "                                                                                \r"
     ]
    }
   ],
   "source": [
    "# here are the top 10 service_request_types sorted by avg_days late\n",
    "(\n",
    "    join_df.groupby('service_request_type')\n",
    "    .agg(count('service_request_type').alias('num_requests'),\n",
    "         mean('num_days_late').alias('avg_days_late'))\n",
    "    .sort(desc('avg_days_late')).show(10, 50)\n",
    ")"
   ]
  },
  {
   "cell_type": "markdown",
   "id": "7c879292-04a7-4f45-8fc9-880a60f51fdc",
   "metadata": {},
   "source": [
    "    Does number of days late depend on department?\n"
   ]
  },
  {
   "cell_type": "code",
   "execution_count": 108,
   "id": "ae36aef2-579c-449d-8a8d-a3ae36c1be6f",
   "metadata": {},
   "outputs": [
    {
     "name": "stderr",
     "output_type": "stream",
     "text": [
      "[Stage 175:>                                                        (0 + 8) / 8]\r"
     ]
    },
    {
     "name": "stdout",
     "output_type": "stream",
     "text": [
      "+------------------------+------------+-------------------+\n",
      "|              department|num_requests|      avg_days_late|\n",
      "+------------------------+------------+-------------------+\n",
      "|        Customer Service|        2889|  59.73709149630077|\n",
      "|             Solid Waste|      286287| -2.200057513672164|\n",
      "|            Metro Health|        5313| -4.911766979607004|\n",
      "|      Parks & Recreation|       19964| -5.251521960055145|\n",
      "|Trans & Cap Improvements|       97841|-20.612837354052708|\n",
      "|    DSD/Code Enforcement|      323579| -38.36938892614506|\n",
      "|    Animal Care Services|      119362|-226.51783940550334|\n",
      "|            City Council|          34|               null|\n",
      "+------------------------+------------+-------------------+\n",
      "\n"
     ]
    },
    {
     "name": "stderr",
     "output_type": "stream",
     "text": [
      "                                                                                \r"
     ]
    }
   ],
   "source": [
    "# here are the number of requests per department sorted by avg_days late\n",
    "(\n",
    "    join_df.groupby('department')\n",
    "    .agg(count('department').alias('num_requests'),\n",
    "         mean('num_days_late').alias('avg_days_late'))\n",
    "    .sort(desc('avg_days_late')).show(10, 50)\n",
    ")"
   ]
  },
  {
   "cell_type": "code",
   "execution_count": 111,
   "id": "204d6bb1-a16a-46cf-a9bc-52d3290ffc9e",
   "metadata": {},
   "outputs": [
    {
     "name": "stderr",
     "output_type": "stream",
     "text": [
      "                                                                                \r"
     ]
    },
    {
     "name": "stdout",
     "output_type": "stream",
     "text": [
      "+------------+-------------------+-------------+-----------+-------------+\n",
      "|  department|   case_opened_date|case_due_date|case_closed|num_days_late|\n",
      "+------------+-------------------+-------------+-----------+-------------+\n",
      "|City Council|2018-01-30 16:54:00|         null|      false|         null|\n",
      "|City Council|2018-02-21 14:21:00|         null|      false|         null|\n",
      "|City Council|2018-03-15 16:10:00|         null|      false|         null|\n",
      "|City Council|2018-03-22 12:06:00|         null|       true|         null|\n",
      "|City Council|2018-03-27 10:53:00|         null|      false|         null|\n",
      "|City Council|2018-04-04 16:31:00|         null|      false|         null|\n",
      "|City Council|2018-04-05 14:59:00|         null|      false|         null|\n",
      "|City Council|2018-04-17 15:20:00|         null|      false|         null|\n",
      "|City Council|2018-04-18 14:37:00|         null|      false|         null|\n",
      "|City Council|2018-04-20 11:29:00|         null|      false|         null|\n",
      "|City Council|2018-05-08 10:54:00|         null|      false|         null|\n",
      "|City Council|2018-05-08 10:55:00|         null|      false|         null|\n",
      "|City Council|2018-05-09 16:40:00|         null|      false|         null|\n",
      "|City Council|2018-05-10 10:08:00|         null|      false|         null|\n",
      "|City Council|2018-05-13 10:34:00|         null|      false|         null|\n",
      "|City Council|2018-05-30 11:35:00|         null|      false|         null|\n",
      "|City Council|2018-05-30 11:37:00|         null|      false|         null|\n",
      "|City Council|2018-06-01 11:52:00|         null|       true|         null|\n",
      "|City Council|2018-06-04 16:00:00|         null|      false|         null|\n",
      "|City Council|2018-06-04 16:05:00|         null|      false|         null|\n",
      "|City Council|2018-06-04 20:50:00|         null|      false|         null|\n",
      "|City Council|2018-06-12 16:53:00|         null|      false|         null|\n",
      "|City Council|2018-06-14 22:26:00|         null|      false|         null|\n",
      "|City Council|2018-08-08 10:33:00|         null|      false|         null|\n",
      "|City Council|2017-06-09 13:47:00|         null|       true|         null|\n",
      "|City Council|2017-06-09 13:47:00|         null|       true|         null|\n",
      "|City Council|2017-08-01 10:43:00|         null|      false|         null|\n",
      "|City Council|2017-08-21 15:22:00|         null|      false|         null|\n",
      "|City Council|2017-08-23 15:47:00|         null|      false|         null|\n",
      "|City Council|2017-09-06 15:17:00|         null|      false|         null|\n",
      "|City Council|2017-09-11 16:24:00|         null|      false|         null|\n",
      "|City Council|2017-10-09 12:11:00|         null|       true|         null|\n",
      "|City Council|2017-10-10 10:57:00|         null|      false|         null|\n",
      "|City Council|2017-10-10 16:34:00|         null|      false|         null|\n",
      "+------------+-------------------+-------------+-----------+-------------+\n",
      "\n"
     ]
    }
   ],
   "source": [
    "# interesting that City Council had a null value for avg_days_late; let's check on those 34 requests\n",
    "## Looks like none of those cases had a case_due_date which caused null values for num_days_late\n",
    "(\n",
    "    join_df[join_df.department == 'City Council']\n",
    "    .select('department', 'case_opened_date', 'case_due_date', 'case_closed', 'num_days_late')\n",
    "    .show(34)\n",
    ")"
   ]
  },
  {
   "cell_type": "code",
   "execution_count": 112,
   "id": "efd163a0-34cd-4b4d-9d1b-1b0d558ba252",
   "metadata": {},
   "outputs": [],
   "source": [
    "# may want to further investigate where the null values are in this df ... later"
   ]
  },
  {
   "cell_type": "markdown",
   "id": "72af9ec1-e458-489b-8451-cfd0e2306343",
   "metadata": {},
   "source": [
    "    How do number of days late depend on department and request type?\n",
    "    - kind of interesting; DSD/Code Enforcement had a low value for average days late (-38), but when we grouped by department and service_request_type, we see they have a number of request_types that are > 100 days late"
   ]
  },
  {
   "cell_type": "code",
   "execution_count": 113,
   "id": "182c2835-f8a8-4283-9e58-9f0de609b6bd",
   "metadata": {},
   "outputs": [
    {
     "name": "stderr",
     "output_type": "stream",
     "text": [
      "[Stage 194:>                                                        (0 + 8) / 8]\r"
     ]
    },
    {
     "name": "stdout",
     "output_type": "stream",
     "text": [
      "+------------------------+--------------------------------------+------------+------------------+\n",
      "|              department|                  service_request_type|num_requests|     avg_days_late|\n",
      "+------------------------+--------------------------------------+------------+------------------+\n",
      "|    DSD/Code Enforcement|                    Zoning: Junk Yards|         296|175.95636210420943|\n",
      "|    DSD/Code Enforcement|            Labeling for Used Mattress|           7|162.43032902285717|\n",
      "|    DSD/Code Enforcement|     Record Keeping of Used Mattresses|           7|153.99724039428568|\n",
      "|    DSD/Code Enforcement|Signage Requied for Sale of Used Mattr|          12|151.63868055333333|\n",
      "|    DSD/Code Enforcement|              Storage of Used Mattress|           8|142.11255641500003|\n",
      "|    DSD/Code Enforcement|                  Zoning: Recycle Yard|         198|135.92851612479797|\n",
      "|    DSD/Code Enforcement|        Donation Container Enforcement|         155|131.75610506358706|\n",
      "|    DSD/Code Enforcement|   License Requied Used Mattress Sales|           7|128.79828704142858|\n",
      "|Trans & Cap Improvements|               Traffic Signal Graffiti|           5|101.79846062200002|\n",
      "|        Customer Service|                             Complaint|        2420|  72.8705023031169|\n",
      "+------------------------+--------------------------------------+------------+------------------+\n",
      "only showing top 10 rows\n",
      "\n"
     ]
    },
    {
     "name": "stderr",
     "output_type": "stream",
     "text": [
      "                                                                                \r"
     ]
    }
   ],
   "source": [
    "# \n",
    "# here are the number of requests per department per request type sorted by avg_days late\n",
    "(\n",
    "    join_df.groupby('department', 'service_request_type')\n",
    "    .agg(count('service_request_type').alias('num_requests'),\n",
    "         mean('num_days_late').alias('avg_days_late'))\n",
    "    .sort(desc('avg_days_late')).show(10, 50)\n",
    ")"
   ]
  },
  {
   "cell_type": "markdown",
   "id": "c63f1f0d-c8bb-4ed8-a7f4-8b70b6ab31e6",
   "metadata": {},
   "source": [
    "# Bonus\n",
    "You might have noticed that the latest date in the dataset is fairly far off from the present day. To account for this, replace any occurances of the current time with the maximum date from the dataset."
   ]
  },
  {
   "cell_type": "code",
   "execution_count": 114,
   "id": "c5d0c24c-9c8f-4557-9943-8b35685d483e",
   "metadata": {},
   "outputs": [
    {
     "name": "stdout",
     "output_type": "stream",
     "text": [
      "root\n",
      " |-- source_id: string (nullable = true)\n",
      " |-- case_id: integer (nullable = true)\n",
      " |-- case_opened_date: timestamp (nullable = true)\n",
      " |-- case_closed_date: timestamp (nullable = true)\n",
      " |-- case_due_date: timestamp (nullable = true)\n",
      " |-- case_late: boolean (nullable = true)\n",
      " |-- num_days_late: double (nullable = true)\n",
      " |-- case_closed: boolean (nullable = true)\n",
      " |-- service_request_type: string (nullable = true)\n",
      " |-- SLA_days: double (nullable = true)\n",
      " |-- case_status: string (nullable = true)\n",
      " |-- request_address: string (nullable = true)\n",
      " |-- council_district: string (nullable = false)\n",
      " |-- days_since_opened: integer (nullable = true)\n",
      " |-- department: string (nullable = true)\n",
      " |-- dept_subject_to_SLA: boolean (nullable = true)\n",
      " |-- source_username: string (nullable = true)\n",
      "\n"
     ]
    }
   ],
   "source": [
    "join_df.printSchema()"
   ]
  },
  {
   "cell_type": "code",
   "execution_count": 121,
   "id": "47e557c9-c382-4a8a-a22e-5c16e65f46bd",
   "metadata": {},
   "outputs": [
    {
     "name": "stderr",
     "output_type": "stream",
     "text": [
      "                                                                                \r"
     ]
    },
    {
     "name": "stdout",
     "output_type": "stream",
     "text": [
      "+-------------------+-------------------+-------------------+-----------------+\n",
      "|   case_opened_date|   case_closed_date|      case_due_date|days_since_opened|\n",
      "+-------------------+-------------------+-------------------+-----------------+\n",
      "|2018-07-27 15:07:00|               null|2022-05-27 15:07:00|             1804|\n",
      "|2018-07-25 15:42:00|               null|2022-05-25 15:42:00|             1806|\n",
      "|2018-07-24 10:01:00|               null|2022-05-24 10:01:00|             1807|\n",
      "|2018-06-19 10:43:00|               null|2022-04-20 10:43:00|             1842|\n",
      "|2018-04-22 20:27:00|               null|2022-02-24 08:30:00|             1900|\n",
      "|2018-04-12 11:07:00|               null|2022-02-15 11:07:00|             1910|\n",
      "|2018-04-01 12:28:00|               null|2022-02-03 08:30:00|             1921|\n",
      "|2018-02-16 16:59:00|               null|2021-12-22 16:59:00|             1965|\n",
      "|2018-02-16 16:42:00|               null|2021-12-22 16:42:00|             1965|\n",
      "|2018-01-19 17:07:00|               null|2021-11-25 08:30:00|             1993|\n",
      "|2017-12-05 08:10:00|2017-12-05 12:24:00|2021-10-19 08:30:00|             2038|\n",
      "|2017-12-03 12:59:00|               null|2021-10-18 08:30:00|             2040|\n",
      "|2017-11-21 06:57:00|               null|2021-10-07 08:30:00|             2052|\n",
      "|2017-11-03 14:05:00|               null|2021-09-22 14:05:00|             2070|\n",
      "|2017-10-18 16:29:00|2017-10-31 17:26:00|2021-09-06 16:29:00|             2086|\n",
      "|2017-10-18 16:22:00|2017-10-31 17:26:00|2021-09-06 16:22:00|             2086|\n",
      "|2017-09-28 15:07:00|2017-10-03 10:10:00|2021-08-17 15:07:00|             2106|\n",
      "|2017-09-22 08:27:00|               null|2021-08-11 08:30:00|             2112|\n",
      "|2017-08-25 10:47:00|2017-08-28 10:46:00|2021-07-15 10:47:00|             2140|\n",
      "|2017-08-15 18:10:00|               null|2021-06-16 08:30:00|             2150|\n",
      "+-------------------+-------------------+-------------------+-----------------+\n",
      "only showing top 20 rows\n",
      "\n"
     ]
    }
   ],
   "source": [
    "join_df.select('case_opened_date', 'case_closed_date', 'case_due_date', 'days_since_opened').sort(desc('case_due_date')).show()"
   ]
  },
  {
   "cell_type": "code",
   "execution_count": 126,
   "id": "3b3d317b-4a52-4a2d-97c3-8c99a85e1cda",
   "metadata": {},
   "outputs": [],
   "source": [
    "# 2018-08-08 10:38:00 is the latest time in either the open or closed date columns\n",
    "# the only column that this matters for is the one we created: days_since_opened\n",
    "# so, this code uses to_timestamp(lit(date)) inside the datediff function to fix that\n",
    "# pretty cool\n",
    "join_df = join_df.withColumn('days_since_opened', datediff(to_timestamp(lit('2018-08-08 10:38:00')), 'case_opened_date'))"
   ]
  },
  {
   "cell_type": "code",
   "execution_count": 128,
   "id": "9c8abc62-e733-4f2a-a1cb-3a2833d2c929",
   "metadata": {},
   "outputs": [
    {
     "name": "stderr",
     "output_type": "stream",
     "text": [
      "[Stage 226:=======>                                                 (1 + 7) / 8]\r"
     ]
    },
    {
     "name": "stdout",
     "output_type": "stream",
     "text": [
      "+-------------------+-------------------+-------------------+-----------------+\n",
      "|   case_opened_date|   case_closed_date|      case_due_date|days_since_opened|\n",
      "+-------------------+-------------------+-------------------+-----------------+\n",
      "|2018-07-27 15:07:00|               null|2022-05-27 15:07:00|               12|\n",
      "|2018-07-25 15:42:00|               null|2022-05-25 15:42:00|               14|\n",
      "|2018-07-24 10:01:00|               null|2022-05-24 10:01:00|               15|\n",
      "|2018-06-19 10:43:00|               null|2022-04-20 10:43:00|               50|\n",
      "|2018-04-22 20:27:00|               null|2022-02-24 08:30:00|              108|\n",
      "|2018-04-12 11:07:00|               null|2022-02-15 11:07:00|              118|\n",
      "|2018-04-01 12:28:00|               null|2022-02-03 08:30:00|              129|\n",
      "|2018-02-16 16:59:00|               null|2021-12-22 16:59:00|              173|\n",
      "|2018-02-16 16:42:00|               null|2021-12-22 16:42:00|              173|\n",
      "|2018-01-19 17:07:00|               null|2021-11-25 08:30:00|              201|\n",
      "|2017-12-05 08:10:00|2017-12-05 12:24:00|2021-10-19 08:30:00|              246|\n",
      "|2017-12-03 12:59:00|               null|2021-10-18 08:30:00|              248|\n",
      "|2017-11-21 06:57:00|               null|2021-10-07 08:30:00|              260|\n",
      "|2017-11-03 14:05:00|               null|2021-09-22 14:05:00|              278|\n",
      "|2017-10-18 16:29:00|2017-10-31 17:26:00|2021-09-06 16:29:00|              294|\n",
      "|2017-10-18 16:22:00|2017-10-31 17:26:00|2021-09-06 16:22:00|              294|\n",
      "|2017-09-28 15:07:00|2017-10-03 10:10:00|2021-08-17 15:07:00|              314|\n",
      "|2017-09-22 08:27:00|               null|2021-08-11 08:30:00|              320|\n",
      "|2017-08-25 10:47:00|2017-08-28 10:46:00|2021-07-15 10:47:00|              348|\n",
      "|2017-08-15 18:10:00|               null|2021-06-16 08:30:00|              358|\n",
      "+-------------------+-------------------+-------------------+-----------------+\n",
      "only showing top 20 rows\n",
      "\n"
     ]
    },
    {
     "name": "stderr",
     "output_type": "stream",
     "text": [
      "                                                                                \r"
     ]
    }
   ],
   "source": [
    "# for comparison, printing out the same call from above after fixing days_since_opened\n",
    "join_df.select('case_opened_date', 'case_closed_date', 'case_due_date', 'days_since_opened').sort(desc('case_due_date')).show()"
   ]
  },
  {
   "cell_type": "code",
   "execution_count": 132,
   "id": "eeda967b-3720-4440-bbc1-f6c8b630d954",
   "metadata": {},
   "outputs": [
    {
     "name": "stderr",
     "output_type": "stream",
     "text": [
      "                                                                                \r"
     ]
    },
    {
     "name": "stdout",
     "output_type": "stream",
     "text": [
      "source_id nulls = 0\n"
     ]
    },
    {
     "name": "stderr",
     "output_type": "stream",
     "text": [
      "                                                                                \r"
     ]
    },
    {
     "name": "stdout",
     "output_type": "stream",
     "text": [
      "case_id nulls = 0\n"
     ]
    },
    {
     "name": "stderr",
     "output_type": "stream",
     "text": [
      "                                                                                \r"
     ]
    },
    {
     "name": "stdout",
     "output_type": "stream",
     "text": [
      "case_opened_date nulls = 0\n"
     ]
    },
    {
     "name": "stderr",
     "output_type": "stream",
     "text": [
      "                                                                                \r"
     ]
    },
    {
     "name": "stdout",
     "output_type": "stream",
     "text": [
      "case_closed_date nulls = 18333\n"
     ]
    },
    {
     "name": "stderr",
     "output_type": "stream",
     "text": [
      "                                                                                \r"
     ]
    },
    {
     "name": "stdout",
     "output_type": "stream",
     "text": [
      "case_due_date nulls = 34\n"
     ]
    },
    {
     "name": "stderr",
     "output_type": "stream",
     "text": [
      "                                                                                \r"
     ]
    },
    {
     "name": "stdout",
     "output_type": "stream",
     "text": [
      "case_late nulls = 0\n"
     ]
    },
    {
     "name": "stderr",
     "output_type": "stream",
     "text": [
      "                                                                                \r"
     ]
    },
    {
     "name": "stdout",
     "output_type": "stream",
     "text": [
      "num_days_late nulls = 34\n"
     ]
    },
    {
     "name": "stderr",
     "output_type": "stream",
     "text": [
      "                                                                                \r"
     ]
    },
    {
     "name": "stdout",
     "output_type": "stream",
     "text": [
      "case_closed nulls = 0\n"
     ]
    },
    {
     "name": "stderr",
     "output_type": "stream",
     "text": [
      "                                                                                \r"
     ]
    },
    {
     "name": "stdout",
     "output_type": "stream",
     "text": [
      "service_request_type nulls = 0\n"
     ]
    },
    {
     "name": "stderr",
     "output_type": "stream",
     "text": [
      "                                                                                \r"
     ]
    },
    {
     "name": "stdout",
     "output_type": "stream",
     "text": [
      "SLA_days nulls = 34\n"
     ]
    },
    {
     "name": "stderr",
     "output_type": "stream",
     "text": [
      "                                                                                \r"
     ]
    },
    {
     "name": "stdout",
     "output_type": "stream",
     "text": [
      "case_status nulls = 0\n"
     ]
    },
    {
     "name": "stderr",
     "output_type": "stream",
     "text": [
      "                                                                                \r"
     ]
    },
    {
     "name": "stdout",
     "output_type": "stream",
     "text": [
      "request_address nulls = 0\n"
     ]
    },
    {
     "name": "stderr",
     "output_type": "stream",
     "text": [
      "                                                                                \r"
     ]
    },
    {
     "name": "stdout",
     "output_type": "stream",
     "text": [
      "council_district nulls = 0\n"
     ]
    },
    {
     "name": "stderr",
     "output_type": "stream",
     "text": [
      "                                                                                \r"
     ]
    },
    {
     "name": "stdout",
     "output_type": "stream",
     "text": [
      "days_since_opened nulls = 0\n"
     ]
    },
    {
     "name": "stderr",
     "output_type": "stream",
     "text": [
      "                                                                                \r"
     ]
    },
    {
     "name": "stdout",
     "output_type": "stream",
     "text": [
      "department nulls = 0\n"
     ]
    },
    {
     "name": "stderr",
     "output_type": "stream",
     "text": [
      "                                                                                \r"
     ]
    },
    {
     "name": "stdout",
     "output_type": "stream",
     "text": [
      "dept_subject_to_SLA nulls = 0\n"
     ]
    },
    {
     "name": "stderr",
     "output_type": "stream",
     "text": [
      "[Stage 325:=========================================================(8 + 0) / 8]\r"
     ]
    },
    {
     "name": "stdout",
     "output_type": "stream",
     "text": [
      "source_username nulls = 0\n"
     ]
    },
    {
     "name": "stderr",
     "output_type": "stream",
     "text": [
      "                                                                                \r"
     ]
    }
   ],
   "source": [
    "# now how about those nulls\n",
    "# Check for null values in all columns\n",
    "for column in join_df.columns:\n",
    "    print(f'{column} nulls = {join_df.select(sum(col(column).isNull().cast(\"int\"))).first()[0]}')\n"
   ]
  },
  {
   "cell_type": "code",
   "execution_count": 137,
   "id": "12b12379-6991-4c1d-8b00-1cc5ab8b27c8",
   "metadata": {},
   "outputs": [
    {
     "name": "stderr",
     "output_type": "stream",
     "text": [
      "[Stage 345:==============>                                          (2 + 6) / 8]\r"
     ]
    },
    {
     "name": "stdout",
     "output_type": "stream",
     "text": [
      "-RECORD 0------------------------------------\n",
      " summary              | count                \n",
      " source_id            | 855269               \n",
      " case_id              | 855269               \n",
      " num_days_late        | 855235               \n",
      " service_request_type | 855269               \n",
      " SLA_days             | 855235               \n",
      " case_status          | 855269               \n",
      " request_address      | 855269               \n",
      " council_district     | 855269               \n",
      " days_since_opened    | 855269               \n",
      " department           | 855269               \n",
      " source_username      | 855269               \n",
      "-RECORD 1------------------------------------\n",
      " summary              | mean                 \n",
      " source_id            | 136713.3785816733    \n",
      " case_id              | 1.01396776661975E9   \n",
      " num_days_late        | -49.17728633237318   \n",
      " service_request_type | null                 \n",
      " SLA_days             | 59.30801898738834    \n",
      " case_status          | null                 \n",
      " request_address      | null                 \n",
      " council_district     | 4.629705975546875    \n",
      " days_since_opened    | 293.17735355776955   \n",
      " department           | null                 \n",
      " source_username      | null                 \n",
      "-RECORD 2------------------------------------\n",
      " summary              | stddev               \n",
      " source_id            | 7049.130638820516    \n",
      " case_id              | 442275.6867759098    \n",
      " num_days_late        | 177.03691559932506   \n",
      " service_request_type | null                 \n",
      " SLA_days             | 175.03300597126983   \n",
      " case_status          | null                 \n",
      " request_address      | null                 \n",
      " council_district     | 2.7579007398611095   \n",
      " days_since_opened    | 171.2233735691603    \n",
      " department           | null                 \n",
      " source_username      | null                 \n",
      "-RECORD 3------------------------------------\n",
      " summary              | min                  \n",
      " source_id            | 100137               \n",
      " case_id              | 1013225542           \n",
      " num_days_late        | -1417.0006019999998  \n",
      " service_request_type | \"Vacant Lot-City ... \n",
      " SLA_days             | 0.125                \n",
      " case_status          | Closed               \n",
      " request_address      | 0  basswood dr, s... \n",
      " council_district     | 000                  \n",
      " days_since_opened    | 0                    \n",
      " department           | Animal Care Services \n",
      " source_username      | Alex Franklin        \n",
      "-RECORD 4------------------------------------\n",
      " summary              | max                  \n",
      " source_id            | yh24110              \n",
      " case_id              | 1014759620           \n",
      " num_days_late        | 519.6980787          \n",
      " service_request_type | Zoning: Visual Ob... \n",
      " SLA_days             | 1420.0               \n",
      " case_status          | Open                 \n",
      " request_address      | zurich and amsterdam \n",
      " council_district     | 010                  \n",
      " days_since_opened    | 584                  \n",
      " department           | Trans & Cap Impro... \n",
      " source_username      | svcCRMSS             \n",
      "\n"
     ]
    },
    {
     "name": "stderr",
     "output_type": "stream",
     "text": [
      "                                                                                \r"
     ]
    }
   ],
   "source": [
    "# here is another way to check for nulls, but you have to work a little; \n",
    "# notice some of the values in record 0 (count) are less than the max value for count\n",
    "# and it didn't summarize any of the date columns\n",
    "join_df.describe().show(vertical=True)"
   ]
  },
  {
   "cell_type": "code",
   "execution_count": null,
   "id": "e4da032d-ea76-4927-89f6-a9fd5ca509d3",
   "metadata": {},
   "outputs": [],
   "source": []
  }
 ],
 "metadata": {
  "kernelspec": {
   "display_name": "Python 3 (ipykernel)",
   "language": "python",
   "name": "python3"
  },
  "language_info": {
   "codemirror_mode": {
    "name": "ipython",
    "version": 3
   },
   "file_extension": ".py",
   "mimetype": "text/x-python",
   "name": "python",
   "nbconvert_exporter": "python",
   "pygments_lexer": "ipython3",
   "version": "3.9.13"
  }
 },
 "nbformat": 4,
 "nbformat_minor": 5
}
