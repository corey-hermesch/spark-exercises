{
 "cells": [
  {
   "cell_type": "code",
   "execution_count": 1,
   "id": "7ea0f72e-e214-4337-9ec7-0f3bcdf503ae",
   "metadata": {},
   "outputs": [
    {
     "name": "stderr",
     "output_type": "stream",
     "text": [
      "Setting default log level to \"WARN\".\n",
      "To adjust logging level use sc.setLogLevel(newLevel). For SparkR, use setLogLevel(newLevel).\n",
      "23/07/05 11:52:36 WARN NativeCodeLoader: Unable to load native-hadoop library for your platform... using builtin-java classes where applicable\n"
     ]
    },
    {
     "data": {
      "text/html": [
       "\n",
       "            <div>\n",
       "                <p><b>SparkSession - in-memory</b></p>\n",
       "                \n",
       "        <div>\n",
       "            <p><b>SparkContext</b></p>\n",
       "\n",
       "            <p><a href=\"http://coreys-mbp.localdomain:4040\">Spark UI</a></p>\n",
       "\n",
       "            <dl>\n",
       "              <dt>Version</dt>\n",
       "                <dd><code>v3.4.1</code></dd>\n",
       "              <dt>Master</dt>\n",
       "                <dd><code>local[*]</code></dd>\n",
       "              <dt>AppName</dt>\n",
       "                <dd><code>pyspark-shell</code></dd>\n",
       "            </dl>\n",
       "        </div>\n",
       "        \n",
       "            </div>\n",
       "        "
      ],
      "text/plain": [
       "<pyspark.sql.session.SparkSession at 0x10c9c8460>"
      ]
     },
     "execution_count": 1,
     "metadata": {},
     "output_type": "execute_result"
    }
   ],
   "source": [
    "import numpy as np\n",
    "import pandas as pd\n",
    "\n",
    "import warnings\n",
    "warnings.filterwarnings('ignore')\n",
    "\n",
    "import pyspark\n",
    "spark = pyspark.sql.SparkSession.builder.getOrCreate()\n",
    "spark"
   ]
  },
  {
   "cell_type": "markdown",
   "id": "c6a18e67-298b-4f14-ae04-8fac1921c7bb",
   "metadata": {},
   "source": [
    "# Exercises\n",
    "## 1. Create a spark data frame that contains your favorite programming languages.\n",
    "\n",
    "    The name of the column should be language\n",
    "    View the schema of the dataframe\n",
    "    Output the shape of the dataframe\n",
    "    Show the first 5 records in the dataframe"
   ]
  },
  {
   "cell_type": "code",
   "execution_count": 2,
   "id": "b1f096f8-5788-4633-8362-e42831001e5d",
   "metadata": {},
   "outputs": [
    {
     "data": {
      "text/html": [
       "<div>\n",
       "<style scoped>\n",
       "    .dataframe tbody tr th:only-of-type {\n",
       "        vertical-align: middle;\n",
       "    }\n",
       "\n",
       "    .dataframe tbody tr th {\n",
       "        vertical-align: top;\n",
       "    }\n",
       "\n",
       "    .dataframe thead th {\n",
       "        text-align: right;\n",
       "    }\n",
       "</style>\n",
       "<table border=\"1\" class=\"dataframe\">\n",
       "  <thead>\n",
       "    <tr style=\"text-align: right;\">\n",
       "      <th></th>\n",
       "      <th>language</th>\n",
       "    </tr>\n",
       "  </thead>\n",
       "  <tbody>\n",
       "    <tr>\n",
       "      <th>0</th>\n",
       "      <td>python</td>\n",
       "    </tr>\n",
       "    <tr>\n",
       "      <th>1</th>\n",
       "      <td>java</td>\n",
       "    </tr>\n",
       "    <tr>\n",
       "      <th>2</th>\n",
       "      <td>c</td>\n",
       "    </tr>\n",
       "    <tr>\n",
       "      <th>3</th>\n",
       "      <td>c++</td>\n",
       "    </tr>\n",
       "    <tr>\n",
       "      <th>4</th>\n",
       "      <td>pascal</td>\n",
       "    </tr>\n",
       "    <tr>\n",
       "      <th>5</th>\n",
       "      <td>basic</td>\n",
       "    </tr>\n",
       "    <tr>\n",
       "      <th>6</th>\n",
       "      <td>perl</td>\n",
       "    </tr>\n",
       "  </tbody>\n",
       "</table>\n",
       "</div>"
      ],
      "text/plain": [
       "  language\n",
       "0   python\n",
       "1     java\n",
       "2        c\n",
       "3      c++\n",
       "4   pascal\n",
       "5    basic\n",
       "6     perl"
      ]
     },
     "execution_count": 2,
     "metadata": {},
     "output_type": "execute_result"
    }
   ],
   "source": [
    "# create a list of languages in order to create a dataframe with the column language\n",
    "language_list = ['python', 'java', 'c', 'c++', 'pascal', 'basic', 'perl']\n",
    "pandas_df = pd.DataFrame({'language':language_list})\n",
    "pandas_df"
   ]
  },
  {
   "cell_type": "code",
   "execution_count": 3,
   "id": "82df8fcf-1fa0-481f-9924-197f15548900",
   "metadata": {},
   "outputs": [
    {
     "data": {
      "text/plain": [
       "DataFrame[language: string]"
      ]
     },
     "execution_count": 3,
     "metadata": {},
     "output_type": "execute_result"
    }
   ],
   "source": [
    "# make the spark dataframe\n",
    "df = spark.createDataFrame(pandas_df)\n",
    "df"
   ]
  },
  {
   "cell_type": "code",
   "execution_count": 4,
   "id": "fed44cdd-1fc8-4ca0-8b28-ce4c4d22ad4f",
   "metadata": {},
   "outputs": [
    {
     "name": "stderr",
     "output_type": "stream",
     "text": [
      "                                                                                \r"
     ]
    },
    {
     "name": "stdout",
     "output_type": "stream",
     "text": [
      "+--------+\n",
      "|language|\n",
      "+--------+\n",
      "|  python|\n",
      "|    java|\n",
      "|       c|\n",
      "|     c++|\n",
      "|  pascal|\n",
      "|   basic|\n",
      "|    perl|\n",
      "+--------+\n",
      "\n"
     ]
    }
   ],
   "source": [
    "df.show()"
   ]
  },
  {
   "cell_type": "code",
   "execution_count": 5,
   "id": "27b76526-7f19-4742-b40e-d4c06bd4c106",
   "metadata": {},
   "outputs": [
    {
     "name": "stderr",
     "output_type": "stream",
     "text": [
      "[Stage 3:>                                                          (0 + 8) / 8]\r"
     ]
    },
    {
     "name": "stdout",
     "output_type": "stream",
     "text": [
      "+-------+--------+\n",
      "|summary|language|\n",
      "+-------+--------+\n",
      "|  count|       7|\n",
      "|   mean|    null|\n",
      "| stddev|    null|\n",
      "|    min|   basic|\n",
      "|    max|  python|\n",
      "+-------+--------+\n",
      "\n"
     ]
    },
    {
     "name": "stderr",
     "output_type": "stream",
     "text": [
      "                                                                                \r"
     ]
    }
   ],
   "source": [
    "df.describe().show()"
   ]
  },
  {
   "cell_type": "code",
   "execution_count": 6,
   "id": "917962c0-86b8-41eb-aaf1-2173044b56f8",
   "metadata": {},
   "outputs": [
    {
     "name": "stdout",
     "output_type": "stream",
     "text": [
      "root\n",
      " |-- language: string (nullable = true)\n",
      "\n"
     ]
    }
   ],
   "source": [
    "df.printSchema()"
   ]
  },
  {
   "cell_type": "code",
   "execution_count": 7,
   "id": "10270aab-8e1d-41a9-8aff-4dcfd73c262e",
   "metadata": {},
   "outputs": [
    {
     "data": {
      "text/plain": [
       "[('language', 'string')]"
      ]
     },
     "execution_count": 7,
     "metadata": {},
     "output_type": "execute_result"
    }
   ],
   "source": [
    "df.dtypes"
   ]
  },
  {
   "cell_type": "code",
   "execution_count": 8,
   "id": "0d7fe1fd-3546-417a-9a19-e455347df207",
   "metadata": {
    "tags": []
   },
   "outputs": [
    {
     "data": {
      "text/plain": [
       "(7, 1)"
      ]
     },
     "execution_count": 8,
     "metadata": {},
     "output_type": "execute_result"
    }
   ],
   "source": [
    "# shape: rows x columns\n",
    "df.count(), len(df.columns)"
   ]
  },
  {
   "cell_type": "markdown",
   "id": "0252ba20-0f05-4412-83e1-12774df23aee",
   "metadata": {},
   "source": [
    "# Exercises\n",
    "## 2. Load the mpg dataset as a spark dataframe.\n",
    "\n",
    "    a. Create 1 column of output that contains a message like the one below:\n",
    "\n",
    "        The 1999 audi a4 has a 4 cylinder engine.\n",
    "\n",
    "    For each vehicle.\n",
    "\n",
    "    b. Transform the trans column so that it only contains either manual or auto."
   ]
  },
  {
   "cell_type": "code",
   "execution_count": 9,
   "id": "5c99543f-f4c5-4835-afb2-e4f59cb0e585",
   "metadata": {},
   "outputs": [
    {
     "name": "stdout",
     "output_type": "stream",
     "text": [
      "+------------+-----+-----+----+---+----------+---+---+---+---+-------+\n",
      "|manufacturer|model|displ|year|cyl|     trans|drv|cty|hwy| fl|  class|\n",
      "+------------+-----+-----+----+---+----------+---+---+---+---+-------+\n",
      "|        audi|   a4|  1.8|1999|  4|  auto(l5)|  f| 18| 29|  p|compact|\n",
      "|        audi|   a4|  1.8|1999|  4|manual(m5)|  f| 21| 29|  p|compact|\n",
      "|        audi|   a4|  2.0|2008|  4|manual(m6)|  f| 20| 31|  p|compact|\n",
      "|        audi|   a4|  2.0|2008|  4|  auto(av)|  f| 21| 30|  p|compact|\n",
      "|        audi|   a4|  2.8|1999|  6|  auto(l5)|  f| 16| 26|  p|compact|\n",
      "+------------+-----+-----+----+---+----------+---+---+---+---+-------+\n",
      "only showing top 5 rows\n",
      "\n"
     ]
    }
   ],
   "source": [
    "from pydataset import data\n",
    "\n",
    "# create spark df with mpg data\n",
    "mpg = spark.createDataFrame(data('mpg'))\n",
    "mpg.show(5)"
   ]
  },
  {
   "cell_type": "code",
   "execution_count": 10,
   "id": "fb3069d7-1841-4355-9972-707dd03f2437",
   "metadata": {},
   "outputs": [
    {
     "name": "stderr",
     "output_type": "stream",
     "text": [
      "[Stage 10:>                                                         (0 + 8) / 8]\r"
     ]
    },
    {
     "name": "stdout",
     "output_type": "stream",
     "text": [
      "+------------+-----+\n",
      "|manufacturer|count|\n",
      "+------------+-----+\n",
      "|        audi|   18|\n",
      "|   chevrolet|   19|\n",
      "|       dodge|   37|\n",
      "|        ford|   25|\n",
      "|     hyundai|   14|\n",
      "|       honda|    9|\n",
      "|  land rover|    4|\n",
      "|     lincoln|    3|\n",
      "|        jeep|    8|\n",
      "|     mercury|    4|\n",
      "|      nissan|   13|\n",
      "|     pontiac|    5|\n",
      "|      toyota|   34|\n",
      "|      subaru|   14|\n",
      "|  volkswagen|   27|\n",
      "+------------+-----+\n",
      "\n"
     ]
    },
    {
     "name": "stderr",
     "output_type": "stream",
     "text": [
      "                                                                                \r"
     ]
    }
   ],
   "source": [
    "mpg.groupBy('manufacturer').count().show()"
   ]
  },
  {
   "cell_type": "code",
   "execution_count": 11,
   "id": "8c2974a9-a87d-47c0-8aea-d099ff8584f5",
   "metadata": {},
   "outputs": [],
   "source": [
    "# import functions from pyspark.sql.functions\n",
    "from pyspark.sql.functions import concat, col, lit, expr"
   ]
  },
  {
   "cell_type": "code",
   "execution_count": 12,
   "id": "dc45bb61-10ec-401e-b6c2-a1069932e401",
   "metadata": {
    "tags": []
   },
   "outputs": [
    {
     "name": "stdout",
     "output_type": "stream",
     "text": [
      "+------------+----------+-----+----+---+----------+---+---+---+---+-------+-------------------------------------------------+\n",
      "|manufacturer|model     |displ|year|cyl|trans     |drv|cty|hwy|fl |class  |description                                      |\n",
      "+------------+----------+-----+----+---+----------+---+---+---+---+-------+-------------------------------------------------+\n",
      "|audi        |a4        |1.8  |1999|4  |auto(l5)  |f  |18 |29 |p  |compact|The 1999 audi a4 has a 4 cylinder engine.        |\n",
      "|audi        |a4        |1.8  |1999|4  |manual(m5)|f  |21 |29 |p  |compact|The 1999 audi a4 has a 4 cylinder engine.        |\n",
      "|audi        |a4        |2.0  |2008|4  |manual(m6)|f  |20 |31 |p  |compact|The 2008 audi a4 has a 4 cylinder engine.        |\n",
      "|audi        |a4        |2.0  |2008|4  |auto(av)  |f  |21 |30 |p  |compact|The 2008 audi a4 has a 4 cylinder engine.        |\n",
      "|audi        |a4        |2.8  |1999|6  |auto(l5)  |f  |16 |26 |p  |compact|The 1999 audi a4 has a 6 cylinder engine.        |\n",
      "|audi        |a4        |2.8  |1999|6  |manual(m5)|f  |18 |26 |p  |compact|The 1999 audi a4 has a 6 cylinder engine.        |\n",
      "|audi        |a4        |3.1  |2008|6  |auto(av)  |f  |18 |27 |p  |compact|The 2008 audi a4 has a 6 cylinder engine.        |\n",
      "|audi        |a4 quattro|1.8  |1999|4  |manual(m5)|4  |18 |26 |p  |compact|The 1999 audi a4 quattro has a 4 cylinder engine.|\n",
      "|audi        |a4 quattro|1.8  |1999|4  |auto(l5)  |4  |16 |25 |p  |compact|The 1999 audi a4 quattro has a 4 cylinder engine.|\n",
      "|audi        |a4 quattro|2.0  |2008|4  |manual(m6)|4  |20 |28 |p  |compact|The 2008 audi a4 quattro has a 4 cylinder engine.|\n",
      "|audi        |a4 quattro|2.0  |2008|4  |auto(s6)  |4  |19 |27 |p  |compact|The 2008 audi a4 quattro has a 4 cylinder engine.|\n",
      "|audi        |a4 quattro|2.8  |1999|6  |auto(l5)  |4  |15 |25 |p  |compact|The 1999 audi a4 quattro has a 6 cylinder engine.|\n",
      "|audi        |a4 quattro|2.8  |1999|6  |manual(m5)|4  |17 |25 |p  |compact|The 1999 audi a4 quattro has a 6 cylinder engine.|\n",
      "|audi        |a4 quattro|3.1  |2008|6  |auto(s6)  |4  |17 |25 |p  |compact|The 2008 audi a4 quattro has a 6 cylinder engine.|\n",
      "|audi        |a4 quattro|3.1  |2008|6  |manual(m6)|4  |15 |25 |p  |compact|The 2008 audi a4 quattro has a 6 cylinder engine.|\n",
      "+------------+----------+-----+----+---+----------+---+---+---+---+-------+-------------------------------------------------+\n",
      "only showing top 15 rows\n",
      "\n"
     ]
    }
   ],
   "source": [
    "# add a new column, description, with a sentence formed from year, make, model, cylinder\n",
    "mpg.withColumn(\n",
    "    'description',\n",
    "    concat(lit('The '), mpg.year, lit(' '), mpg.manufacturer, lit(' '), mpg.model, lit(' has a '),\n",
    "           mpg.cyl, lit(' cylinder engine.') )\n",
    ").show(15, truncate=False)"
   ]
  },
  {
   "cell_type": "code",
   "execution_count": 13,
   "id": "f029bcd7-8bb0-48dc-addf-a4d6c39512b8",
   "metadata": {},
   "outputs": [
    {
     "name": "stdout",
     "output_type": "stream",
     "text": [
      "+------------+------------------+-----+----+---+----------+---+---+---+---+-------+\n",
      "|manufacturer|             model|displ|year|cyl|     trans|drv|cty|hwy| fl|  class|\n",
      "+------------+------------------+-----+----+---+----------+---+---+---+---+-------+\n",
      "|        audi|                a4|  1.8|1999|  4|  auto(l5)|  f| 18| 29|  p|compact|\n",
      "|        audi|                a4|  1.8|1999|  4|manual(m5)|  f| 21| 29|  p|compact|\n",
      "|        audi|                a4|  2.0|2008|  4|manual(m6)|  f| 20| 31|  p|compact|\n",
      "|        audi|                a4|  2.0|2008|  4|  auto(av)|  f| 21| 30|  p|compact|\n",
      "|        audi|                a4|  2.8|1999|  6|  auto(l5)|  f| 16| 26|  p|compact|\n",
      "|        audi|                a4|  2.8|1999|  6|manual(m5)|  f| 18| 26|  p|compact|\n",
      "|        audi|                a4|  3.1|2008|  6|  auto(av)|  f| 18| 27|  p|compact|\n",
      "|        audi|        a4 quattro|  1.8|1999|  4|manual(m5)|  4| 18| 26|  p|compact|\n",
      "|        audi|        a4 quattro|  1.8|1999|  4|  auto(l5)|  4| 16| 25|  p|compact|\n",
      "|        audi|        a4 quattro|  2.0|2008|  4|manual(m6)|  4| 20| 28|  p|compact|\n",
      "|        audi|        a4 quattro|  2.0|2008|  4|  auto(s6)|  4| 19| 27|  p|compact|\n",
      "|        audi|        a4 quattro|  2.8|1999|  6|  auto(l5)|  4| 15| 25|  p|compact|\n",
      "|        audi|        a4 quattro|  2.8|1999|  6|manual(m5)|  4| 17| 25|  p|compact|\n",
      "|        audi|        a4 quattro|  3.1|2008|  6|  auto(s6)|  4| 17| 25|  p|compact|\n",
      "|        audi|        a4 quattro|  3.1|2008|  6|manual(m6)|  4| 15| 25|  p|compact|\n",
      "|        audi|        a6 quattro|  2.8|1999|  6|  auto(l5)|  4| 15| 24|  p|midsize|\n",
      "|        audi|        a6 quattro|  3.1|2008|  6|  auto(s6)|  4| 17| 25|  p|midsize|\n",
      "|        audi|        a6 quattro|  4.2|2008|  8|  auto(s6)|  4| 16| 23|  p|midsize|\n",
      "|   chevrolet|c1500 suburban 2wd|  5.3|2008|  8|  auto(l4)|  r| 14| 20|  r|    suv|\n",
      "|   chevrolet|c1500 suburban 2wd|  5.3|2008|  8|  auto(l4)|  r| 11| 15|  e|    suv|\n",
      "+------------+------------------+-----+----+---+----------+---+---+---+---+-------+\n",
      "only showing top 20 rows\n",
      "\n"
     ]
    }
   ],
   "source": [
    "mpg.show()"
   ]
  },
  {
   "cell_type": "code",
   "execution_count": 14,
   "id": "68a7ec75-91c9-48bd-89d1-821cec410d32",
   "metadata": {},
   "outputs": [
    {
     "data": {
      "text/plain": [
       "('auto(l5)', 'manual(m5)')"
      ]
     },
     "execution_count": 14,
     "metadata": {},
     "output_type": "execute_result"
    }
   ],
   "source": [
    "# get a couple strings out of the trans column to experiment on with regex\n",
    "auto_string = mpg.first()['trans']\n",
    "man_string = mpg.collect()[1]['trans']\n",
    "auto_string, man_string"
   ]
  },
  {
   "cell_type": "code",
   "execution_count": 15,
   "id": "efcee5a1-52f0-441e-861a-11480c60e893",
   "metadata": {},
   "outputs": [],
   "source": [
    "import re\n",
    "from pyspark.sql.functions import regexp_extract, regexp_replace"
   ]
  },
  {
   "cell_type": "code",
   "execution_count": 16,
   "id": "a0afa910-a038-49ae-8c72-2a96e8ce7de0",
   "metadata": {},
   "outputs": [
    {
     "data": {
      "text/plain": [
       "'manual'"
      ]
     },
     "execution_count": 16,
     "metadata": {},
     "output_type": "execute_result"
    }
   ],
   "source": [
    "# goal is to transform trans so that contents are only 'auto' or 'manual'\n",
    "re.sub(r'\\(.+\\)', '', man_string)"
   ]
  },
  {
   "cell_type": "code",
   "execution_count": 17,
   "id": "52d843de-f02c-4ebc-b569-8500a90cddef",
   "metadata": {},
   "outputs": [
    {
     "name": "stdout",
     "output_type": "stream",
     "text": [
      "+----------+--------------+\n",
      "|     trans|auto_or_manual|\n",
      "+----------+--------------+\n",
      "|  auto(l5)|          auto|\n",
      "|manual(m5)|        manual|\n",
      "|manual(m6)|        manual|\n",
      "|  auto(av)|          auto|\n",
      "|  auto(l5)|          auto|\n",
      "|manual(m5)|        manual|\n",
      "|  auto(av)|          auto|\n",
      "|manual(m5)|        manual|\n",
      "|  auto(l5)|          auto|\n",
      "|manual(m6)|        manual|\n",
      "|  auto(s6)|          auto|\n",
      "|  auto(l5)|          auto|\n",
      "|manual(m5)|        manual|\n",
      "|  auto(s6)|          auto|\n",
      "|manual(m6)|        manual|\n",
      "|  auto(l5)|          auto|\n",
      "|  auto(s6)|          auto|\n",
      "|  auto(s6)|          auto|\n",
      "|  auto(l4)|          auto|\n",
      "|  auto(l4)|          auto|\n",
      "+----------+--------------+\n",
      "only showing top 20 rows\n",
      "\n"
     ]
    }
   ],
   "source": [
    "# make a column with only 'auto' or 'manual' from the trans column\n",
    "mpg.select(\n",
    "    mpg.trans,\n",
    "    regexp_replace('trans', r'\\(.+\\)', '').alias('auto_or_manual')\n",
    ").show()"
   ]
  },
  {
   "cell_type": "markdown",
   "id": "d5d62009-98a1-48a7-ab31-ab676c7438df",
   "metadata": {},
   "source": [
    "# Exercises\n",
    "## 3. Load the tips dataset as a spark dataframe.\n",
    "\n",
    "    What percentage of observations are smokers?\n",
    "    Create a column that contains the tip percentage\n",
    "    Calculate the average tip percentage for each combination of sex and smoker."
   ]
  },
  {
   "cell_type": "code",
   "execution_count": 18,
   "id": "39bd99f4-ffcb-4ac3-b794-32ad2a02f9ae",
   "metadata": {},
   "outputs": [
    {
     "name": "stdout",
     "output_type": "stream",
     "text": [
      "+----------+----+------+------+---+------+----+\n",
      "|total_bill| tip|   sex|smoker|day|  time|size|\n",
      "+----------+----+------+------+---+------+----+\n",
      "|     16.99|1.01|Female|    No|Sun|Dinner|   2|\n",
      "|     10.34|1.66|  Male|    No|Sun|Dinner|   3|\n",
      "|     21.01| 3.5|  Male|    No|Sun|Dinner|   3|\n",
      "|     23.68|3.31|  Male|    No|Sun|Dinner|   2|\n",
      "|     24.59|3.61|Female|    No|Sun|Dinner|   4|\n",
      "+----------+----+------+------+---+------+----+\n",
      "only showing top 5 rows\n",
      "\n"
     ]
    }
   ],
   "source": [
    "tips = spark.createDataFrame(data('tips'))\n",
    "tips.show(5)"
   ]
  },
  {
   "cell_type": "code",
   "execution_count": 19,
   "id": "4392ec38-3d85-4504-8162-717b333e1d9c",
   "metadata": {},
   "outputs": [
    {
     "data": {
      "text/plain": [
       "(244, 7)"
      ]
     },
     "execution_count": 19,
     "metadata": {},
     "output_type": "execute_result"
    }
   ],
   "source": [
    "tips.count(), len(tips.columns)"
   ]
  },
  {
   "cell_type": "code",
   "execution_count": 20,
   "id": "6b2041ca-b56f-4b35-818a-0f507e9b91c9",
   "metadata": {},
   "outputs": [
    {
     "name": "stdout",
     "output_type": "stream",
     "text": [
      "+------+-----+\n",
      "|smoker|count|\n",
      "+------+-----+\n",
      "|    No|  151|\n",
      "|   Yes|   93|\n",
      "+------+-----+\n",
      "\n"
     ]
    }
   ],
   "source": [
    "# groupby('column name').count().show() is a little bit like value_counts()\n",
    "tips.groupby('smoker').count().show()"
   ]
  },
  {
   "cell_type": "code",
   "execution_count": 21,
   "id": "0bbbc6e4-a225-4ce7-bae3-7170fea191be",
   "metadata": {},
   "outputs": [
    {
     "data": {
      "text/plain": [
       "0.38114754098360654"
      ]
     },
     "execution_count": 21,
     "metadata": {},
     "output_type": "execute_result"
    }
   ],
   "source": [
    "tips.filter(tips.smoker == 'Yes').count() / tips.count()"
   ]
  },
  {
   "cell_type": "code",
   "execution_count": 22,
   "id": "703fa3ad-c4f6-4ece-bfb5-327c0d05f3eb",
   "metadata": {},
   "outputs": [
    {
     "name": "stdout",
     "output_type": "stream",
     "text": [
      "+------+-----+\n",
      "|smoker|count|\n",
      "+------+-----+\n",
      "|    No|  151|\n",
      "|   Yes|   93|\n",
      "+------+-----+\n",
      "\n"
     ]
    }
   ],
   "source": [
    "temp = tips.groupby('smoker').count()\n",
    "temp.show()"
   ]
  },
  {
   "cell_type": "code",
   "execution_count": 23,
   "id": "cdf4cbb2-5672-45da-a5a1-aa60e710d99d",
   "metadata": {},
   "outputs": [
    {
     "data": {
      "text/plain": [
       "Column<'((count / 244) * 100)'>"
      ]
     },
     "execution_count": 23,
     "metadata": {},
     "output_type": "execute_result"
    }
   ],
   "source": [
    "total = tips.count()\n",
    "percent = col('count') / total * 100\n",
    "percent"
   ]
  },
  {
   "cell_type": "code",
   "execution_count": 24,
   "id": "ba03538b-22a2-4507-92e9-960fa48691ca",
   "metadata": {},
   "outputs": [],
   "source": [
    "from pyspark.sql.functions import round, avg"
   ]
  },
  {
   "cell_type": "code",
   "execution_count": 25,
   "id": "021f1d7f-4167-4ffd-afea-099682d8e547",
   "metadata": {},
   "outputs": [
    {
     "name": "stdout",
     "output_type": "stream",
     "text": [
      "+------+-----+-------+\n",
      "|smoker|count|percent|\n",
      "+------+-----+-------+\n",
      "|    No|  151|   61.9|\n",
      "|   Yes|   93|   38.1|\n",
      "+------+-----+-------+\n",
      "\n"
     ]
    }
   ],
   "source": [
    "tips.groupby('smoker').count().select('smoker', 'count', round(percent,1).alias('percent')).show()"
   ]
  },
  {
   "cell_type": "code",
   "execution_count": 26,
   "id": "ddf42a90-1b32-4f07-8c73-4a162551268e",
   "metadata": {},
   "outputs": [
    {
     "name": "stdout",
     "output_type": "stream",
     "text": [
      "+----------+----+------+------+---+------+----+--------------+\n",
      "|total_bill| tip|   sex|smoker|day|  time|size|tip_percentage|\n",
      "+----------+----+------+------+---+------+----+--------------+\n",
      "|     16.99|1.01|Female|    No|Sun|Dinner|   2|           5.9|\n",
      "|     10.34|1.66|  Male|    No|Sun|Dinner|   3|          16.1|\n",
      "|     21.01| 3.5|  Male|    No|Sun|Dinner|   3|          16.7|\n",
      "|     23.68|3.31|  Male|    No|Sun|Dinner|   2|          14.0|\n",
      "|     24.59|3.61|Female|    No|Sun|Dinner|   4|          14.7|\n",
      "|     25.29|4.71|  Male|    No|Sun|Dinner|   4|          18.6|\n",
      "|      8.77| 2.0|  Male|    No|Sun|Dinner|   2|          22.8|\n",
      "|     26.88|3.12|  Male|    No|Sun|Dinner|   4|          11.6|\n",
      "|     15.04|1.96|  Male|    No|Sun|Dinner|   2|          13.0|\n",
      "|     14.78|3.23|  Male|    No|Sun|Dinner|   2|          21.9|\n",
      "|     10.27|1.71|  Male|    No|Sun|Dinner|   2|          16.7|\n",
      "|     35.26| 5.0|Female|    No|Sun|Dinner|   4|          14.2|\n",
      "|     15.42|1.57|  Male|    No|Sun|Dinner|   2|          10.2|\n",
      "|     18.43| 3.0|  Male|    No|Sun|Dinner|   4|          16.3|\n",
      "|     14.83|3.02|Female|    No|Sun|Dinner|   2|          20.4|\n",
      "|     21.58|3.92|  Male|    No|Sun|Dinner|   2|          18.2|\n",
      "|     10.33|1.67|Female|    No|Sun|Dinner|   3|          16.2|\n",
      "|     16.29|3.71|  Male|    No|Sun|Dinner|   3|          22.8|\n",
      "|     16.97| 3.5|Female|    No|Sun|Dinner|   3|          20.6|\n",
      "|     20.65|3.35|  Male|    No|Sat|Dinner|   3|          16.2|\n",
      "+----------+----+------+------+---+------+----+--------------+\n",
      "only showing top 20 rows\n",
      "\n"
     ]
    }
   ],
   "source": [
    "# add a column to tips with the tip percentage\n",
    "tips = tips.withColumn(\n",
    "    'tip_percentage',\n",
    "    round((tips.tip / tips.total_bill) * 100, 1)\n",
    ")\n",
    "tips.show()"
   ]
  },
  {
   "cell_type": "code",
   "execution_count": 27,
   "id": "6f6e850f-9a76-4d2c-8658-e43388ed3f5f",
   "metadata": {},
   "outputs": [
    {
     "name": "stdout",
     "output_type": "stream",
     "text": [
      "+------+------+-------+\n",
      "|   sex|smoker|avg tip|\n",
      "+------+------+-------+\n",
      "|  Male|    No|   16.1|\n",
      "|Female|    No|   15.7|\n",
      "|  Male|   Yes|   15.3|\n",
      "|Female|   Yes|   18.2|\n",
      "+------+------+-------+\n",
      "\n"
     ]
    }
   ],
   "source": [
    "# average tip percentage for each combination of sex and smoker\n",
    "tips.groupby('sex','smoker').agg(round(avg(tips.tip_percentage),1).alias('avg tip')).show()"
   ]
  },
  {
   "cell_type": "markdown",
   "id": "c6be33a6-58a7-431f-8499-b0540d81d74c",
   "metadata": {},
   "source": [
    "# Exercises\n",
    "## 4. Use the seattle weather dataset referenced in the lesson to answer the questions below.\n",
    "\n",
    "    Convert the temperatures to fahrenheit.\n",
    "    Which month has the most rain, on average?\n",
    "    Which year was the windiest?\n",
    "    What is the most frequent type of weather in January?\n",
    "    What is the average high and low temperature on sunny days in July in 2013 and 2014?\n",
    "    What percentage of days were rainy in q3 of 2015?\n",
    "    For each year, find what percentage of days it rained (had non-zero precipitation)."
   ]
  },
  {
   "cell_type": "code",
   "execution_count": 28,
   "id": "5854ee3e-ecfb-4d92-8590-2d341675927e",
   "metadata": {},
   "outputs": [
    {
     "name": "stdout",
     "output_type": "stream",
     "text": [
      "+----------+-------------+--------+--------+----+-------+\n",
      "|      date|precipitation|temp_max|temp_min|wind|weather|\n",
      "+----------+-------------+--------+--------+----+-------+\n",
      "|2012-01-01|          0.0|    12.8|     5.0| 4.7|drizzle|\n",
      "|2012-01-02|         10.9|    10.6|     2.8| 4.5|   rain|\n",
      "|2012-01-03|          0.8|    11.7|     7.2| 2.3|   rain|\n",
      "|2012-01-04|         20.3|    12.2|     5.6| 4.7|   rain|\n",
      "|2012-01-05|          1.3|     8.9|     2.8| 6.1|   rain|\n",
      "+----------+-------------+--------+--------+----+-------+\n",
      "only showing top 5 rows\n",
      "\n"
     ]
    }
   ],
   "source": [
    "from vega_datasets import data\n",
    "\n",
    "weather = data.seattle_weather().assign(date=lambda df: df.date.astype(str))\n",
    "weather = spark.createDataFrame(weather)\n",
    "weather.show(5)"
   ]
  },
  {
   "cell_type": "code",
   "execution_count": 29,
   "id": "ad7c5f6a-9754-4801-858a-251b545e5325",
   "metadata": {},
   "outputs": [
    {
     "name": "stdout",
     "output_type": "stream",
     "text": [
      "+----------+-------------+----------+----------+----+-------+\n",
      "|      date|precipitation|temp_max_f|temp_min_f|wind|weather|\n",
      "+----------+-------------+----------+----------+----+-------+\n",
      "|2012-01-01|          0.0|      55.0|      41.0| 4.7|drizzle|\n",
      "|2012-01-02|         10.9|      51.1|      37.0| 4.5|   rain|\n",
      "|2012-01-03|          0.8|      53.1|      45.0| 2.3|   rain|\n",
      "|2012-01-04|         20.3|      54.0|      42.1| 4.7|   rain|\n",
      "|2012-01-05|          1.3|      48.0|      37.0| 6.1|   rain|\n",
      "|2012-01-06|          2.5|      39.9|      36.0| 2.2|   rain|\n",
      "|2012-01-07|          0.0|      45.0|      37.0| 2.3|   rain|\n",
      "|2012-01-08|          0.0|      50.0|      37.0| 2.0|    sun|\n",
      "|2012-01-09|          4.3|      48.9|      41.0| 3.4|   rain|\n",
      "|2012-01-10|          1.0|      43.0|      33.1| 3.4|   rain|\n",
      "|2012-01-11|          0.0|      43.0|      30.0| 5.1|    sun|\n",
      "|2012-01-12|          0.0|      43.0|      28.9| 1.9|    sun|\n",
      "|2012-01-13|          0.0|      41.0|      27.0| 1.3|    sun|\n",
      "|2012-01-14|          4.1|      39.9|      33.1| 5.3|   snow|\n",
      "|2012-01-15|          5.3|      34.0|      26.1| 3.2|   snow|\n",
      "|2012-01-16|          2.5|      35.1|      27.0| 5.0|   snow|\n",
      "|2012-01-17|          8.1|      37.9|      32.0| 5.6|   snow|\n",
      "|2012-01-18|         19.8|      32.0|      27.0| 5.0|   snow|\n",
      "|2012-01-19|         15.2|      30.0|      27.0| 1.6|   snow|\n",
      "|2012-01-20|         13.5|      45.0|      30.0| 2.3|   snow|\n",
      "+----------+-------------+----------+----------+----+-------+\n",
      "only showing top 20 rows\n",
      "\n"
     ]
    }
   ],
   "source": [
    "# Convert temperatures from C to F in the temp_max and temp_min columns\n",
    "\n",
    "# I was trying to avoid doing it this way because if I had a lot of columns it would not be ideal,\n",
    "# BUT, this works, and nothing else I was trying was working\n",
    "weather = weather.select(\n",
    "    'date', 'precipitation', \n",
    "    expr('round(temp_max * 9 / 5 + 32, 1)').alias('temp_max_f'),\n",
    "    expr('round(temp_min * 9 / 5 + 32, 1)').alias('temp_min_f'),\n",
    "    'wind', 'weather'\n",
    ")\n",
    "\n",
    "weather.show()"
   ]
  },
  {
   "cell_type": "code",
   "execution_count": 30,
   "id": "26a5c22c-dd5e-40de-9e05-0664a01c77f6",
   "metadata": {},
   "outputs": [],
   "source": [
    "# Another way to do it\n",
    "# weather = (weather.withColumn('temp_max_f', expr('round(temp_max * 9 / 5 + 32, 1)'))\n",
    "#     .withColumn ('temp_min_f', expr('round(temp_min * 9 / 5 + 32, 1)'))\n",
    "#     .drop('temp_max', 'temp_min')\n",
    "# )"
   ]
  },
  {
   "cell_type": "code",
   "execution_count": 31,
   "id": "2bcc0e1c-9601-4c82-ba68-e14f253e0492",
   "metadata": {},
   "outputs": [],
   "source": [
    "from pyspark.sql.functions import asc, desc"
   ]
  },
  {
   "cell_type": "code",
   "execution_count": 32,
   "id": "cc1ffa9f-1324-487e-9961-207d25917747",
   "metadata": {},
   "outputs": [
    {
     "name": "stdout",
     "output_type": "stream",
     "text": [
      "+----------+-------------+----------+----------+----+-------+\n",
      "|      date|precipitation|temp_max_f|temp_min_f|wind|weather|\n",
      "+----------+-------------+----------+----------+----+-------+\n",
      "|2015-12-31|          0.0|      42.1|      28.2| 3.5|    sun|\n",
      "|2015-12-30|          0.0|      42.1|      30.2| 3.4|    sun|\n",
      "|2015-12-29|          0.0|      45.0|      33.1| 2.6|    fog|\n",
      "|2015-12-28|          1.5|      41.0|      35.1| 1.3|    fog|\n",
      "|2015-12-27|          8.6|      39.9|      35.1| 2.9|    fog|\n",
      "|2015-12-26|          0.0|      39.9|      32.0| 2.5|    sun|\n",
      "|2015-12-25|          5.8|      41.0|      36.0| 1.5|    fog|\n",
      "|2015-12-24|          2.5|      42.1|      36.0| 4.3|    fog|\n",
      "|2015-12-23|          6.1|      41.0|      37.0| 7.6|    fog|\n",
      "|2015-12-22|          4.6|      46.0|      37.0| 5.0|    fog|\n",
      "|2015-12-21|         27.4|      42.1|      37.0| 4.3|    fog|\n",
      "|2015-12-20|          4.3|      46.0|      39.9| 6.7|    fog|\n",
      "|2015-12-19|          0.0|      46.9|      37.0| 4.1|    fog|\n",
      "|2015-12-18|         18.5|      48.0|      39.9| 5.1|    fog|\n",
      "|2015-12-17|         21.8|      44.1|      39.0| 6.0|    fog|\n",
      "|2015-12-16|          3.6|      43.0|      37.0| 2.3|    fog|\n",
      "|2015-12-15|          1.5|      44.1|      34.0| 2.9|    fog|\n",
      "|2015-12-14|          0.0|      46.0|      35.1| 1.7|    sun|\n",
      "|2015-12-13|          1.3|      46.0|      43.0| 6.1|    sun|\n",
      "|2015-12-12|         16.0|      48.0|      42.1| 5.6|    fog|\n",
      "+----------+-------------+----------+----------+----+-------+\n",
      "only showing top 20 rows\n",
      "\n"
     ]
    }
   ],
   "source": [
    "weather.sort(desc('date')).show()"
   ]
  },
  {
   "cell_type": "code",
   "execution_count": 33,
   "id": "84cc4546-6e8f-4ae9-a9a9-b9342a05dfc0",
   "metadata": {},
   "outputs": [],
   "source": [
    "# Next question - display average monthly rainfall over the 4 years in the data set"
   ]
  },
  {
   "cell_type": "code",
   "execution_count": 34,
   "id": "650f615b-8b55-409f-8dd9-5544aec2acaa",
   "metadata": {},
   "outputs": [
    {
     "data": {
      "text/html": [
       "<div>\n",
       "<style scoped>\n",
       "    .dataframe tbody tr th:only-of-type {\n",
       "        vertical-align: middle;\n",
       "    }\n",
       "\n",
       "    .dataframe tbody tr th {\n",
       "        vertical-align: top;\n",
       "    }\n",
       "\n",
       "    .dataframe thead th {\n",
       "        text-align: right;\n",
       "    }\n",
       "</style>\n",
       "<table border=\"1\" class=\"dataframe\">\n",
       "  <thead>\n",
       "    <tr style=\"text-align: right;\">\n",
       "      <th></th>\n",
       "      <th>date</th>\n",
       "      <th>precipitation</th>\n",
       "      <th>temp_max</th>\n",
       "      <th>temp_min</th>\n",
       "      <th>wind</th>\n",
       "      <th>weather</th>\n",
       "      <th>year</th>\n",
       "      <th>month</th>\n",
       "    </tr>\n",
       "  </thead>\n",
       "  <tbody>\n",
       "    <tr>\n",
       "      <th>0</th>\n",
       "      <td>2012-01-01</td>\n",
       "      <td>0.0</td>\n",
       "      <td>12.8</td>\n",
       "      <td>5.0</td>\n",
       "      <td>4.7</td>\n",
       "      <td>drizzle</td>\n",
       "      <td>2012</td>\n",
       "      <td>1</td>\n",
       "    </tr>\n",
       "    <tr>\n",
       "      <th>1</th>\n",
       "      <td>2012-01-02</td>\n",
       "      <td>10.9</td>\n",
       "      <td>10.6</td>\n",
       "      <td>2.8</td>\n",
       "      <td>4.5</td>\n",
       "      <td>rain</td>\n",
       "      <td>2012</td>\n",
       "      <td>1</td>\n",
       "    </tr>\n",
       "    <tr>\n",
       "      <th>2</th>\n",
       "      <td>2012-01-03</td>\n",
       "      <td>0.8</td>\n",
       "      <td>11.7</td>\n",
       "      <td>7.2</td>\n",
       "      <td>2.3</td>\n",
       "      <td>rain</td>\n",
       "      <td>2012</td>\n",
       "      <td>1</td>\n",
       "    </tr>\n",
       "    <tr>\n",
       "      <th>3</th>\n",
       "      <td>2012-01-04</td>\n",
       "      <td>20.3</td>\n",
       "      <td>12.2</td>\n",
       "      <td>5.6</td>\n",
       "      <td>4.7</td>\n",
       "      <td>rain</td>\n",
       "      <td>2012</td>\n",
       "      <td>1</td>\n",
       "    </tr>\n",
       "    <tr>\n",
       "      <th>4</th>\n",
       "      <td>2012-01-05</td>\n",
       "      <td>1.3</td>\n",
       "      <td>8.9</td>\n",
       "      <td>2.8</td>\n",
       "      <td>6.1</td>\n",
       "      <td>rain</td>\n",
       "      <td>2012</td>\n",
       "      <td>1</td>\n",
       "    </tr>\n",
       "  </tbody>\n",
       "</table>\n",
       "</div>"
      ],
      "text/plain": [
       "        date  precipitation  temp_max  temp_min  wind  weather  year  month\n",
       "0 2012-01-01            0.0      12.8       5.0   4.7  drizzle  2012      1\n",
       "1 2012-01-02           10.9      10.6       2.8   4.5     rain  2012      1\n",
       "2 2012-01-03            0.8      11.7       7.2   2.3     rain  2012      1\n",
       "3 2012-01-04           20.3      12.2       5.6   4.7     rain  2012      1\n",
       "4 2012-01-05            1.3       8.9       2.8   6.1     rain  2012      1"
      ]
     },
     "execution_count": 34,
     "metadata": {},
     "output_type": "execute_result"
    }
   ],
   "source": [
    "# Following cells are how I can answer the question with a pandas dataframe\n",
    "# Goal - display average monthly rainfall over the 4 years in the data set\n",
    "wx = data.seattle_weather()\n",
    "wx['year'] = wx.date.dt.year\n",
    "wx['month'] = wx.date.dt.month\n",
    "wx.head()"
   ]
  },
  {
   "cell_type": "code",
   "execution_count": 35,
   "id": "71a3807e-17d7-42a7-a526-f08453490727",
   "metadata": {},
   "outputs": [
    {
     "data": {
      "text/plain": [
       "<bound method GroupBy.mean of <pandas.core.groupby.generic.SeriesGroupBy object at 0x10ca2b7c0>>"
      ]
     },
     "execution_count": 35,
     "metadata": {},
     "output_type": "execute_result"
    }
   ],
   "source": [
    "wx.groupby(by=['year','month']).precipitation.sum().groupby('month').mean"
   ]
  },
  {
   "cell_type": "code",
   "execution_count": 36,
   "id": "ebef02bd-8526-4c4b-9b48-c18911506079",
   "metadata": {},
   "outputs": [
    {
     "name": "stdout",
     "output_type": "stream",
     "text": [
      "+----------+-------------+----------+----------+----+-------+\n",
      "|      date|precipitation|temp_max_f|temp_min_f|wind|weather|\n",
      "+----------+-------------+----------+----------+----+-------+\n",
      "|2012-01-01|          0.0|      55.0|      41.0| 4.7|drizzle|\n",
      "|2012-01-02|         10.9|      51.1|      37.0| 4.5|   rain|\n",
      "|2012-01-03|          0.8|      53.1|      45.0| 2.3|   rain|\n",
      "|2012-01-04|         20.3|      54.0|      42.1| 4.7|   rain|\n",
      "|2012-01-05|          1.3|      48.0|      37.0| 6.1|   rain|\n",
      "+----------+-------------+----------+----------+----+-------+\n",
      "only showing top 5 rows\n",
      "\n"
     ]
    }
   ],
   "source": [
    "# NOW, how can I do it with a spark dataframe\n",
    "weather.show(5)"
   ]
  },
  {
   "cell_type": "code",
   "execution_count": 37,
   "id": "a57c02ff-1594-4552-8009-970e23acc266",
   "metadata": {},
   "outputs": [],
   "source": [
    "from pyspark.sql.functions import month, year, quarter, sum"
   ]
  },
  {
   "cell_type": "code",
   "execution_count": 38,
   "id": "2ed210ae-efc3-441e-a2cf-e9d3fac5d220",
   "metadata": {},
   "outputs": [
    {
     "name": "stdout",
     "output_type": "stream",
     "text": [
      "+-----+------------------+\n",
      "|month|  avg_month_precip|\n",
      "+-----+------------------+\n",
      "|    1|116.49999999999999|\n",
      "|    2|             105.5|\n",
      "|    3|            151.55|\n",
      "|    4|             93.85|\n",
      "|    5|            51.875|\n",
      "|    6|            33.225|\n",
      "|    7|             12.05|\n",
      "|    8|            40.925|\n",
      "|    9| 58.87499999999999|\n",
      "|   10|            125.85|\n",
      "|   11|           160.625|\n",
      "|   12|           155.675|\n",
      "+-----+------------------+\n",
      "\n"
     ]
    }
   ],
   "source": [
    "# Whoa. This worked. Let's see if I can round it\n",
    "(\n",
    "    weather.withColumn('year', year('date'))\n",
    "    .withColumn('month', month('date'))\n",
    "    .groupby('year', 'month').agg(sum('precipitation').alias('avg_month_precip'))\n",
    "    .groupby('month').agg(avg('avg_month_precip').alias('avg_month_precip'))\n",
    "    .sort('month').show()\n",
    ")    "
   ]
  },
  {
   "cell_type": "code",
   "execution_count": 39,
   "id": "bebbc5bb-33dd-46a2-a505-7b668857f454",
   "metadata": {},
   "outputs": [
    {
     "name": "stdout",
     "output_type": "stream",
     "text": [
      "+-----+----------------+\n",
      "|month|avg_month_precip|\n",
      "+-----+----------------+\n",
      "|    1|           116.5|\n",
      "|    2|           105.5|\n",
      "|    3|           151.6|\n",
      "|    4|            93.9|\n",
      "|    5|            51.9|\n",
      "|    6|            33.2|\n",
      "|    7|            12.1|\n",
      "|    8|            40.9|\n",
      "|    9|            58.9|\n",
      "|   10|           125.9|\n",
      "|   11|           160.6|\n",
      "|   12|           155.7|\n",
      "+-----+----------------+\n",
      "\n"
     ]
    }
   ],
   "source": [
    "# Whoa again. Lots of iteration to get to this.  But success!\n",
    "# monthly average rainfalls are listed, rounded to the nearest decimal\n",
    "(\n",
    "    weather.withColumn('year', year('date'))\n",
    "    .withColumn('month', month('date'))\n",
    "    .groupby('year', 'month').agg(sum('precipitation').alias('avg_month_precip'))\n",
    "    .groupby('month').agg(avg('avg_month_precip').alias('avg_month_precip'))\n",
    "    .sort('month')\n",
    ").select('month', round('avg_month_precip', 1).alias('avg_month_precip')).show()"
   ]
  },
  {
   "cell_type": "code",
   "execution_count": 40,
   "id": "05ff187b-f6c2-4c8b-bf3e-3744906f7669",
   "metadata": {},
   "outputs": [
    {
     "name": "stdout",
     "output_type": "stream",
     "text": [
      "+-----+-------------------+\n",
      "|month|   avg_month_precip|\n",
      "+-----+-------------------+\n",
      "|    1| 3.7580645161290316|\n",
      "|    2|  3.734513274336283|\n",
      "|    3|  4.888709677419355|\n",
      "|    4|  3.128333333333333|\n",
      "|    5| 1.6733870967741935|\n",
      "|    6| 1.1075000000000002|\n",
      "|    7|0.38870967741935486|\n",
      "|    8| 1.3201612903225806|\n",
      "|    9| 1.9624999999999997|\n",
      "|   10|  4.059677419354839|\n",
      "|   11|  5.354166666666667|\n",
      "|   12|  5.021774193548389|\n",
      "+-----+-------------------+\n",
      "\n"
     ]
    }
   ],
   "source": [
    "# thought I could do it quicker, but you need the groupby year in there to get the average monthly rainfall\n",
    "# if you don't, you'll get the average daily rainfall for each month (which is what this is)\n",
    "(\n",
    "    weather.withColumn('month', month('date'))\n",
    "    .groupby('month').agg(avg('precipitation').alias('avg_month_precip'))\n",
    "    .sort('month')\n",
    ").show()"
   ]
  },
  {
   "cell_type": "code",
   "execution_count": 41,
   "id": "72699300-cb7b-476e-9be5-3e309b0ebfb4",
   "metadata": {},
   "outputs": [
    {
     "name": "stdout",
     "output_type": "stream",
     "text": [
      "+----+---------------+\n",
      "|year|avg_yearly_wind|\n",
      "+----+---------------+\n",
      "|2012|            3.4|\n",
      "|2014|           3.39|\n",
      "|2015|           3.16|\n",
      "|2013|           3.02|\n",
      "+----+---------------+\n",
      "\n"
     ]
    }
   ],
   "source": [
    "# Which year was the windiest (highest average wind)\n",
    "(\n",
    "    weather.withColumn('year', year('date'))\n",
    "    .groupby('year').agg(avg('wind').alias('avg_yearly_wind'))\n",
    "    .select('year', round('avg_yearly_wind',2).alias('avg_yearly_wind'))\n",
    "    .sort(desc('avg_yearly_wind'))\n",
    "    .show()\n",
    ")"
   ]
  },
  {
   "cell_type": "code",
   "execution_count": 42,
   "id": "6340991a-5cef-47be-9ee2-55206789d14e",
   "metadata": {},
   "outputs": [
    {
     "name": "stdout",
     "output_type": "stream",
     "text": [
      "+-------+-----+\n",
      "|weather|count|\n",
      "+-------+-----+\n",
      "|    fog|   38|\n",
      "|   rain|   35|\n",
      "|    sun|   33|\n",
      "|drizzle|   10|\n",
      "|   snow|    8|\n",
      "+-------+-----+\n",
      "\n"
     ]
    }
   ],
   "source": [
    "# what is the most frequenty type of weather in January? --- fog\n",
    "(\n",
    "    weather.withColumn('month', month('date'))\n",
    "    .where('month = 1')\n",
    "    .groupby('weather')\n",
    "    .count()\n",
    "    .sort(desc('count'))\n",
    "    .show()\n",
    ")"
   ]
  },
  {
   "cell_type": "code",
   "execution_count": 43,
   "id": "2b51d768-f3d4-497d-9047-f838a47a2a46",
   "metadata": {},
   "outputs": [
    {
     "name": "stdout",
     "output_type": "stream",
     "text": [
      "+----+-----+---------------------+---------------------+\n",
      "|year|month|avg_max_temp_sun_days|avg_min_temp_sun_days|\n",
      "+----+-----+---------------------+---------------------+\n",
      "|2013|    7|                 79.9|                 57.1|\n",
      "|2014|    7|                 80.8|                 57.9|\n",
      "+----+-----+---------------------+---------------------+\n",
      "\n"
     ]
    }
   ],
   "source": [
    "# what is the average high and low temps on sunny days in July in 2013 and 2014\n",
    "(\n",
    "    weather.withColumn('year', year('date'))\n",
    "    .withColumn('month', month('date'))\n",
    "    .where('month = 7')\n",
    "    .where('weather = \"sun\"')\n",
    "    .groupby('year', 'month')\n",
    "    .agg(avg('temp_max_f').alias('avg_max'), avg('temp_min_f').alias('avg_min'))\n",
    "\n",
    ").select('year', 'month', round('avg_max', 1).alias('avg_max_temp_sun_days'), round('avg_min', 1).alias('avg_min_temp_sun_days')).where('year > 2012').where('year < 2015').show()"
   ]
  },
  {
   "cell_type": "code",
   "execution_count": 44,
   "id": "8c0c1d31-cc8a-4e3c-a6c7-1c40e8a1cd6f",
   "metadata": {},
   "outputs": [],
   "source": [
    "from pyspark.sql.functions import concat, sum, avg, min, max, count, mean"
   ]
  },
  {
   "cell_type": "code",
   "execution_count": 45,
   "id": "6c3bb6a2-46ce-44f2-a646-b2ee3f398bfc",
   "metadata": {},
   "outputs": [
    {
     "name": "stdout",
     "output_type": "stream",
     "text": [
      "+-------+-----+\n",
      "|weather|count|\n",
      "+-------+-----+\n",
      "|    fog|   21|\n",
      "|drizzle|    5|\n",
      "|   rain|    2|\n",
      "|    sun|   64|\n",
      "+-------+-----+\n",
      "\n"
     ]
    }
   ],
   "source": [
    "# what percentage of days were rainy in q3 of 2015?\n",
    "# ... having trouble getting percentages\n",
    "(\n",
    "    weather.withColumn('year', year('date'))\n",
    "    .withColumn('month', month('date'))\n",
    "    .where('year = 2015')\n",
    "    .where('month > 6')\n",
    "    .where('month < 10')\n",
    "    .groupby('weather')\n",
    "    .count()\n",
    "\n",
    ").show()"
   ]
  },
  {
   "cell_type": "code",
   "execution_count": 46,
   "id": "f310f753-6ac0-44f5-8a61-ba68897f10ba",
   "metadata": {},
   "outputs": [
    {
     "name": "stdout",
     "output_type": "stream",
     "text": [
      "+----------+-------------+----------+----------+----+-------+\n",
      "|      date|precipitation|temp_max_f|temp_min_f|wind|weather|\n",
      "+----------+-------------+----------+----------+----+-------+\n",
      "|2012-01-01|          0.0|      55.0|      41.0| 4.7|drizzle|\n",
      "|2012-01-27|          0.0|      44.1|      28.0| 1.4|drizzle|\n",
      "|2012-02-15|          0.0|      45.0|      33.1| 1.8|drizzle|\n",
      "+----------+-------------+----------+----------+----+-------+\n",
      "only showing top 3 rows\n",
      "\n"
     ]
    }
   ],
   "source": [
    "# look at this! I can boolean mask!\n",
    "weather[weather.weather == 'drizzle'].show(3)"
   ]
  },
  {
   "cell_type": "code",
   "execution_count": 47,
   "id": "87e036fd-5ba8-4e8c-8aad-b0d1900f02dc",
   "metadata": {},
   "outputs": [
    {
     "name": "stdout",
     "output_type": "stream",
     "text": [
      "+----------+-------------+----------+----------+----+-------+----+-----+\n",
      "|      date|precipitation|temp_max_f|temp_min_f|wind|weather|year|month|\n",
      "+----------+-------------+----------+----------+----+-------+----+-----+\n",
      "|2012-01-01|          0.0|      55.0|      41.0| 4.7|drizzle|2012|    1|\n",
      "|2012-01-02|         10.9|      51.1|      37.0| 4.5|   rain|2012|    1|\n",
      "|2012-01-03|          0.8|      53.1|      45.0| 2.3|   rain|2012|    1|\n",
      "+----------+-------------+----------+----------+----+-------+----+-----+\n",
      "only showing top 3 rows\n",
      "\n"
     ]
    }
   ],
   "source": [
    "# add year and date to weather df\n",
    "weather = (\n",
    "    weather.withColumn('year', year('date'))\n",
    "    .withColumn('month', month('date'))\n",
    ")\n",
    "weather.show(3)"
   ]
  },
  {
   "cell_type": "code",
   "execution_count": 48,
   "id": "c05bdcd2-7820-4c79-bebe-b7a1c7fca024",
   "metadata": {},
   "outputs": [
    {
     "name": "stdout",
     "output_type": "stream",
     "text": [
      "+-------+-----+\n",
      "|weather|count|\n",
      "+-------+-----+\n",
      "|    fog|   21|\n",
      "|drizzle|    5|\n",
      "|   rain|    2|\n",
      "|    sun|   64|\n",
      "+-------+-----+\n",
      "\n"
     ]
    }
   ],
   "source": [
    "# get a temp df with only the year and quarter in question\n",
    "temp = weather[(weather.year == 2015) & (weather.month > 6) & (weather.month < 10)].groupby('weather').count()\n",
    "temp.show()"
   ]
  },
  {
   "cell_type": "code",
   "execution_count": 49,
   "id": "30f7cca1-e5ed-4531-8d2d-e6b5ede4deab",
   "metadata": {},
   "outputs": [
    {
     "data": {
      "text/plain": [
       "92"
      ]
     },
     "execution_count": 49,
     "metadata": {},
     "output_type": "execute_result"
    }
   ],
   "source": [
    "# i want to add a percentage column to temp above, but I need to get the total count somehow\n",
    "total = temp.select(sum(temp['count']).alias('sum_value'))\n",
    "total.collect()[0][0]"
   ]
  },
  {
   "cell_type": "code",
   "execution_count": 50,
   "id": "6bc52f18-d3fb-4506-a0ce-1a32dc632f7b",
   "metadata": {},
   "outputs": [
    {
     "data": {
      "text/plain": [
       "92"
      ]
     },
     "execution_count": 50,
     "metadata": {},
     "output_type": "execute_result"
    }
   ],
   "source": [
    "# or just like this\n",
    "temp.select(sum(temp['count'])).collect()[0][0]"
   ]
  },
  {
   "cell_type": "code",
   "execution_count": 51,
   "id": "924c3820-a497-4622-8118-0a155867792f",
   "metadata": {},
   "outputs": [
    {
     "name": "stdout",
     "output_type": "stream",
     "text": [
      "+-------+-----+----------+\n",
      "|weather|count|percentage|\n",
      "+-------+-----+----------+\n",
      "|    fog|   21|      22.8|\n",
      "|drizzle|    5|       5.4|\n",
      "|   rain|    2|       2.2|\n",
      "|    sun|   64|      69.6|\n",
      "+-------+-----+----------+\n",
      "\n"
     ]
    }
   ],
   "source": [
    "# use above code to create the percent column\n",
    "temp.withColumn('percentage', round((temp['count'] / temp.select(sum(temp['count'])).collect()[0][0] * 100),1)).show()"
   ]
  },
  {
   "cell_type": "code",
   "execution_count": 52,
   "id": "5efaf9b9-7445-49ce-b453-757a3490c746",
   "metadata": {},
   "outputs": [
    {
     "name": "stdout",
     "output_type": "stream",
     "text": [
      "+----------+-------------+----------+----------+----+-------+----+-----+\n",
      "|      date|precipitation|temp_max_f|temp_min_f|wind|weather|year|month|\n",
      "+----------+-------------+----------+----------+----+-------+----+-----+\n",
      "|2012-01-01|          0.0|      55.0|      41.0| 4.7|drizzle|2012|    1|\n",
      "|2012-01-02|         10.9|      51.1|      37.0| 4.5|   rain|2012|    1|\n",
      "|2012-01-03|          0.8|      53.1|      45.0| 2.3|   rain|2012|    1|\n",
      "|2012-01-04|         20.3|      54.0|      42.1| 4.7|   rain|2012|    1|\n",
      "|2012-01-05|          1.3|      48.0|      37.0| 6.1|   rain|2012|    1|\n",
      "+----------+-------------+----------+----------+----+-------+----+-----+\n",
      "only showing top 5 rows\n",
      "\n"
     ]
    }
   ],
   "source": [
    "# LAST QUESTION!\n",
    "# For each year, find what percentage of days it rained (had non-zero precipitation).\n",
    "weather.show(5)"
   ]
  },
  {
   "cell_type": "code",
   "execution_count": 53,
   "id": "104d2bb3-ea43-440b-8345-9f87d8e7286a",
   "metadata": {},
   "outputs": [
    {
     "data": {
      "text/plain": [
       "838"
      ]
     },
     "execution_count": 53,
     "metadata": {},
     "output_type": "execute_result"
    }
   ],
   "source": [
    "# just getting a feel for the number of days with rain\n",
    "weather[weather.precipitation == 0].count()"
   ]
  },
  {
   "cell_type": "code",
   "execution_count": 54,
   "id": "aafa15db-7da0-4e18-b3f2-2608445416cd",
   "metadata": {},
   "outputs": [
    {
     "data": {
      "text/plain": [
       "1461"
      ]
     },
     "execution_count": 54,
     "metadata": {},
     "output_type": "execute_result"
    }
   ],
   "source": [
    "weather.count()"
   ]
  },
  {
   "cell_type": "code",
   "execution_count": 55,
   "id": "d3e5d7d3-1c0c-4589-b098-a3f6bc014a4d",
   "metadata": {},
   "outputs": [
    {
     "name": "stdout",
     "output_type": "stream",
     "text": [
      "+-----+------------------+------------------+------------------+------------------+\n",
      "|month|              2012|              2013|              2014|              2015|\n",
      "+-----+------------------+------------------+------------------+------------------+\n",
      "|    1|173.29999999999998|105.69999999999997| 93.99999999999999| 92.99999999999999|\n",
      "|    2|              92.3|40.300000000000004|155.20000000000002|134.19999999999996|\n",
      "|    3|             183.0|              69.7|240.00000000000003|113.49999999999997|\n",
      "|    4| 68.09999999999998|149.60000000000002|106.10000000000001| 51.59999999999999|\n",
      "|    5|52.199999999999996| 60.49999999999999| 79.99999999999999|14.799999999999999|\n",
      "|    6|              75.1|              33.1|18.800000000000004|5.8999999999999995|\n",
      "|    7|              26.3|               0.0|              19.6|               2.3|\n",
      "|    8|               0.0|              34.4| 45.99999999999999|              83.3|\n",
      "|    9|0.8999999999999999|156.79999999999998|56.699999999999996|              21.1|\n",
      "|   10|170.29999999999998|39.199999999999996|             171.5|122.39999999999998|\n",
      "|   11|             210.5|              96.3|             123.1|             212.6|\n",
      "|   12|             174.0| 42.39999999999999|121.79999999999998| 284.5000000000001|\n",
      "+-----+------------------+------------------+------------------+------------------+\n",
      "\n"
     ]
    }
   ],
   "source": [
    "# this is neat, but ultimately not as helpful as I hoped\n",
    "weather.groupby('month').pivot('year').sum('precipitation').sort('month').show()"
   ]
  },
  {
   "cell_type": "code",
   "execution_count": 56,
   "id": "2e0807d7-bdd9-4226-8991-647df18ae244",
   "metadata": {},
   "outputs": [
    {
     "name": "stdout",
     "output_type": "stream",
     "text": [
      "+----+----------+----------+-------------+\n",
      "|year|rainy_days|total_days|percent_rainy|\n",
      "+----+----------+----------+-------------+\n",
      "|2012|       189|       366|         51.6|\n",
      "|2013|       213|       365|         58.4|\n",
      "|2014|       215|       365|         58.9|\n",
      "|2015|       221|       365|         60.5|\n",
      "+----+----------+----------+-------------+\n",
      "\n"
     ]
    }
   ],
   "source": [
    "# Now, we're talking.  used cast to cast a boolean to an int and later sum it and count it to help calculate percentage\n",
    "temp = (\n",
    "    weather.withColumn('is_rain_day', (weather.precipitation == 0).cast('int'))\n",
    "    .groupby('year')\n",
    "    .agg(sum('is_rain_day').alias('rainy_days'), count('is_rain_day').alias('total_days'))\n",
    "    .withColumn('percent_rainy', expr('round(rainy_days / total_days * 100,1)'))\n",
    "    \n",
    ")\n",
    "temp.show()"
   ]
  },
  {
   "cell_type": "code",
   "execution_count": null,
   "id": "449fc49a-2d87-4349-b8a4-48bc830c6d77",
   "metadata": {},
   "outputs": [],
   "source": []
  }
 ],
 "metadata": {
  "kernelspec": {
   "display_name": "Python 3 (ipykernel)",
   "language": "python",
   "name": "python3"
  },
  "language_info": {
   "codemirror_mode": {
    "name": "ipython",
    "version": 3
   },
   "file_extension": ".py",
   "mimetype": "text/x-python",
   "name": "python",
   "nbconvert_exporter": "python",
   "pygments_lexer": "ipython3",
   "version": "3.9.13"
  }
 },
 "nbformat": 4,
 "nbformat_minor": 5
}
